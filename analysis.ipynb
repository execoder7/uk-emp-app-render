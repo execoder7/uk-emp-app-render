{
 "cells": [
  {
   "cell_type": "code",
   "execution_count": 67,
   "metadata": {},
   "outputs": [],
   "source": [
    "import pandas as pd\n",
    "import numpy as np\n",
    "import matplotlib.pyplot as plt\n",
    "import plotly.express as px\n",
    "import plotly.graph_objects as go\n",
    "from plotly.subplots import make_subplots\n",
    "import plotly.io as pio\n"
   ]
  },
  {
   "cell_type": "code",
   "execution_count": 3,
   "metadata": {},
   "outputs": [],
   "source": [
    "pd.set_option('display.max_rows', 100)\n",
    "pd.set_option('display.max_columns', 100)"
   ]
  },
  {
   "cell_type": "code",
   "execution_count": 5,
   "metadata": {},
   "outputs": [],
   "source": [
    "df = pd.read_excel('./clean/clean_uk_emp.xlsx')"
   ]
  },
  {
   "cell_type": "code",
   "execution_count": 6,
   "metadata": {},
   "outputs": [
    {
     "data": {
      "text/html": [
       "<div>\n",
       "<style scoped>\n",
       "    .dataframe tbody tr th:only-of-type {\n",
       "        vertical-align: middle;\n",
       "    }\n",
       "\n",
       "    .dataframe tbody tr th {\n",
       "        vertical-align: top;\n",
       "    }\n",
       "\n",
       "    .dataframe thead th {\n",
       "        text-align: right;\n",
       "    }\n",
       "</style>\n",
       "<table border=\"1\" class=\"dataframe\">\n",
       "  <thead>\n",
       "    <tr style=\"text-align: right;\">\n",
       "      <th></th>\n",
       "      <th>Indicator Name</th>\n",
       "      <th>Indicator Code</th>\n",
       "      <th>1991</th>\n",
       "      <th>1992</th>\n",
       "      <th>1993</th>\n",
       "      <th>1994</th>\n",
       "      <th>1995</th>\n",
       "      <th>1996</th>\n",
       "      <th>1997</th>\n",
       "      <th>1998</th>\n",
       "      <th>1999</th>\n",
       "      <th>2000</th>\n",
       "      <th>2001</th>\n",
       "      <th>2002</th>\n",
       "      <th>2003</th>\n",
       "      <th>2004</th>\n",
       "      <th>2005</th>\n",
       "      <th>2006</th>\n",
       "      <th>2007</th>\n",
       "      <th>2008</th>\n",
       "      <th>2009</th>\n",
       "      <th>2010</th>\n",
       "      <th>2011</th>\n",
       "      <th>2012</th>\n",
       "      <th>2013</th>\n",
       "      <th>2014</th>\n",
       "      <th>2015</th>\n",
       "      <th>2016</th>\n",
       "      <th>2017</th>\n",
       "      <th>2018</th>\n",
       "      <th>2019</th>\n",
       "      <th>2020</th>\n",
       "      <th>2021</th>\n",
       "      <th>2022</th>\n",
       "      <th>2023</th>\n",
       "    </tr>\n",
       "  </thead>\n",
       "  <tbody>\n",
       "    <tr>\n",
       "      <th>0</th>\n",
       "      <td>Armed forces personnel (% of total labor force)</td>\n",
       "      <td>MS.MIL.TOTL.TF.ZS</td>\n",
       "      <td>1.034938</td>\n",
       "      <td>1.011012</td>\n",
       "      <td>0.941825</td>\n",
       "      <td>0.893465</td>\n",
       "      <td>0.809746</td>\n",
       "      <td>0.764148</td>\n",
       "      <td>0.749378</td>\n",
       "      <td>0.747852</td>\n",
       "      <td>0.745580</td>\n",
       "      <td>0.720051</td>\n",
       "      <td>0.716079</td>\n",
       "      <td>0.705112</td>\n",
       "      <td>0.706427</td>\n",
       "      <td>0.675640</td>\n",
       "      <td>0.704243</td>\n",
       "      <td>0.577943</td>\n",
       "      <td>0.507496</td>\n",
       "      <td>0.501131</td>\n",
       "      <td>0.556242</td>\n",
       "      <td>0.539828</td>\n",
       "      <td>0.510036</td>\n",
       "      <td>0.516042</td>\n",
       "      <td>0.481377</td>\n",
       "      <td>0.464127</td>\n",
       "      <td>0.453232</td>\n",
       "      <td>0.442697</td>\n",
       "      <td>0.433652</td>\n",
       "      <td>0.431347</td>\n",
       "      <td>0.429445</td>\n",
       "      <td>0.441771</td>\n",
       "      <td>NaN</td>\n",
       "      <td>NaN</td>\n",
       "      <td>NaN</td>\n",
       "    </tr>\n",
       "    <tr>\n",
       "      <th>1</th>\n",
       "      <td>Employers, female (% of female employment) (mo...</td>\n",
       "      <td>SL.EMP.MPYR.FE.ZS</td>\n",
       "      <td>2.071416</td>\n",
       "      <td>1.821551</td>\n",
       "      <td>1.832719</td>\n",
       "      <td>1.786122</td>\n",
       "      <td>1.702226</td>\n",
       "      <td>1.660218</td>\n",
       "      <td>1.767240</td>\n",
       "      <td>1.697781</td>\n",
       "      <td>1.492055</td>\n",
       "      <td>1.662732</td>\n",
       "      <td>1.616506</td>\n",
       "      <td>1.608796</td>\n",
       "      <td>1.640823</td>\n",
       "      <td>1.682315</td>\n",
       "      <td>1.546502</td>\n",
       "      <td>1.526666</td>\n",
       "      <td>1.541802</td>\n",
       "      <td>1.369912</td>\n",
       "      <td>1.432701</td>\n",
       "      <td>1.461440</td>\n",
       "      <td>1.344472</td>\n",
       "      <td>1.422711</td>\n",
       "      <td>1.433634</td>\n",
       "      <td>1.435851</td>\n",
       "      <td>1.343361</td>\n",
       "      <td>1.396491</td>\n",
       "      <td>1.319773</td>\n",
       "      <td>1.243830</td>\n",
       "      <td>1.271591</td>\n",
       "      <td>1.296677</td>\n",
       "      <td>1.311026</td>\n",
       "      <td>1.285092</td>\n",
       "      <td>NaN</td>\n",
       "    </tr>\n",
       "    <tr>\n",
       "      <th>2</th>\n",
       "      <td>Employers, male (% of male employment) (modele...</td>\n",
       "      <td>SL.EMP.MPYR.MA.ZS</td>\n",
       "      <td>5.451175</td>\n",
       "      <td>4.997700</td>\n",
       "      <td>4.788890</td>\n",
       "      <td>4.660436</td>\n",
       "      <td>4.759194</td>\n",
       "      <td>4.377572</td>\n",
       "      <td>4.470590</td>\n",
       "      <td>4.328682</td>\n",
       "      <td>4.630595</td>\n",
       "      <td>4.493790</td>\n",
       "      <td>4.466315</td>\n",
       "      <td>4.289541</td>\n",
       "      <td>4.181044</td>\n",
       "      <td>4.222627</td>\n",
       "      <td>4.129769</td>\n",
       "      <td>4.129136</td>\n",
       "      <td>4.030665</td>\n",
       "      <td>4.058963</td>\n",
       "      <td>3.973625</td>\n",
       "      <td>3.692613</td>\n",
       "      <td>3.555783</td>\n",
       "      <td>3.503294</td>\n",
       "      <td>3.394872</td>\n",
       "      <td>3.523928</td>\n",
       "      <td>3.419577</td>\n",
       "      <td>3.342514</td>\n",
       "      <td>3.054329</td>\n",
       "      <td>2.782002</td>\n",
       "      <td>3.059169</td>\n",
       "      <td>3.002847</td>\n",
       "      <td>2.969704</td>\n",
       "      <td>2.972063</td>\n",
       "      <td>NaN</td>\n",
       "    </tr>\n",
       "    <tr>\n",
       "      <th>3</th>\n",
       "      <td>Employers, total (% of total employment) (mode...</td>\n",
       "      <td>SL.EMP.MPYR.ZS</td>\n",
       "      <td>3.964613</td>\n",
       "      <td>3.571861</td>\n",
       "      <td>3.445334</td>\n",
       "      <td>3.355197</td>\n",
       "      <td>3.375982</td>\n",
       "      <td>3.139238</td>\n",
       "      <td>3.241357</td>\n",
       "      <td>3.135896</td>\n",
       "      <td>3.196336</td>\n",
       "      <td>3.198926</td>\n",
       "      <td>3.160589</td>\n",
       "      <td>3.053218</td>\n",
       "      <td>3.013346</td>\n",
       "      <td>3.052436</td>\n",
       "      <td>2.937811</td>\n",
       "      <td>2.927428</td>\n",
       "      <td>2.885064</td>\n",
       "      <td>2.817983</td>\n",
       "      <td>2.786835</td>\n",
       "      <td>2.651757</td>\n",
       "      <td>2.524491</td>\n",
       "      <td>2.534644</td>\n",
       "      <td>2.478962</td>\n",
       "      <td>2.548218</td>\n",
       "      <td>2.449310</td>\n",
       "      <td>2.432246</td>\n",
       "      <td>2.239167</td>\n",
       "      <td>2.058930</td>\n",
       "      <td>2.213687</td>\n",
       "      <td>2.187893</td>\n",
       "      <td>2.173875</td>\n",
       "      <td>2.166912</td>\n",
       "      <td>NaN</td>\n",
       "    </tr>\n",
       "    <tr>\n",
       "      <th>4</th>\n",
       "      <td>Employment in agriculture (% of total employme...</td>\n",
       "      <td>SL.AGR.EMPL.ZS</td>\n",
       "      <td>2.165177</td>\n",
       "      <td>2.111121</td>\n",
       "      <td>2.047451</td>\n",
       "      <td>2.078798</td>\n",
       "      <td>2.053645</td>\n",
       "      <td>1.948527</td>\n",
       "      <td>1.854229</td>\n",
       "      <td>1.718116</td>\n",
       "      <td>1.553987</td>\n",
       "      <td>1.534549</td>\n",
       "      <td>1.392333</td>\n",
       "      <td>1.385813</td>\n",
       "      <td>1.248917</td>\n",
       "      <td>1.276501</td>\n",
       "      <td>1.376033</td>\n",
       "      <td>1.351469</td>\n",
       "      <td>1.365217</td>\n",
       "      <td>1.080433</td>\n",
       "      <td>1.109150</td>\n",
       "      <td>1.215924</td>\n",
       "      <td>1.220281</td>\n",
       "      <td>1.188861</td>\n",
       "      <td>1.058843</td>\n",
       "      <td>1.256243</td>\n",
       "      <td>1.136193</td>\n",
       "      <td>1.121066</td>\n",
       "      <td>1.163076</td>\n",
       "      <td>1.070067</td>\n",
       "      <td>1.044325</td>\n",
       "      <td>1.034035</td>\n",
       "      <td>1.032581</td>\n",
       "      <td>1.004949</td>\n",
       "      <td>NaN</td>\n",
       "    </tr>\n",
       "  </tbody>\n",
       "</table>\n",
       "</div>"
      ],
      "text/plain": [
       "                                      Indicator Name     Indicator Code  \\\n",
       "0    Armed forces personnel (% of total labor force)  MS.MIL.TOTL.TF.ZS   \n",
       "1  Employers, female (% of female employment) (mo...  SL.EMP.MPYR.FE.ZS   \n",
       "2  Employers, male (% of male employment) (modele...  SL.EMP.MPYR.MA.ZS   \n",
       "3  Employers, total (% of total employment) (mode...     SL.EMP.MPYR.ZS   \n",
       "4  Employment in agriculture (% of total employme...     SL.AGR.EMPL.ZS   \n",
       "\n",
       "       1991      1992      1993      1994      1995      1996      1997  \\\n",
       "0  1.034938  1.011012  0.941825  0.893465  0.809746  0.764148  0.749378   \n",
       "1  2.071416  1.821551  1.832719  1.786122  1.702226  1.660218  1.767240   \n",
       "2  5.451175  4.997700  4.788890  4.660436  4.759194  4.377572  4.470590   \n",
       "3  3.964613  3.571861  3.445334  3.355197  3.375982  3.139238  3.241357   \n",
       "4  2.165177  2.111121  2.047451  2.078798  2.053645  1.948527  1.854229   \n",
       "\n",
       "       1998      1999      2000      2001      2002      2003      2004  \\\n",
       "0  0.747852  0.745580  0.720051  0.716079  0.705112  0.706427  0.675640   \n",
       "1  1.697781  1.492055  1.662732  1.616506  1.608796  1.640823  1.682315   \n",
       "2  4.328682  4.630595  4.493790  4.466315  4.289541  4.181044  4.222627   \n",
       "3  3.135896  3.196336  3.198926  3.160589  3.053218  3.013346  3.052436   \n",
       "4  1.718116  1.553987  1.534549  1.392333  1.385813  1.248917  1.276501   \n",
       "\n",
       "       2005      2006      2007      2008      2009      2010      2011  \\\n",
       "0  0.704243  0.577943  0.507496  0.501131  0.556242  0.539828  0.510036   \n",
       "1  1.546502  1.526666  1.541802  1.369912  1.432701  1.461440  1.344472   \n",
       "2  4.129769  4.129136  4.030665  4.058963  3.973625  3.692613  3.555783   \n",
       "3  2.937811  2.927428  2.885064  2.817983  2.786835  2.651757  2.524491   \n",
       "4  1.376033  1.351469  1.365217  1.080433  1.109150  1.215924  1.220281   \n",
       "\n",
       "       2012      2013      2014      2015      2016      2017      2018  \\\n",
       "0  0.516042  0.481377  0.464127  0.453232  0.442697  0.433652  0.431347   \n",
       "1  1.422711  1.433634  1.435851  1.343361  1.396491  1.319773  1.243830   \n",
       "2  3.503294  3.394872  3.523928  3.419577  3.342514  3.054329  2.782002   \n",
       "3  2.534644  2.478962  2.548218  2.449310  2.432246  2.239167  2.058930   \n",
       "4  1.188861  1.058843  1.256243  1.136193  1.121066  1.163076  1.070067   \n",
       "\n",
       "       2019      2020      2021      2022  2023  \n",
       "0  0.429445  0.441771       NaN       NaN   NaN  \n",
       "1  1.271591  1.296677  1.311026  1.285092   NaN  \n",
       "2  3.059169  3.002847  2.969704  2.972063   NaN  \n",
       "3  2.213687  2.187893  2.173875  2.166912   NaN  \n",
       "4  1.044325  1.034035  1.032581  1.004949   NaN  "
      ]
     },
     "execution_count": 6,
     "metadata": {},
     "output_type": "execute_result"
    }
   ],
   "source": [
    "df.head()"
   ]
  },
  {
   "cell_type": "code",
   "execution_count": 9,
   "metadata": {},
   "outputs": [
    {
     "data": {
      "text/plain": [
       "Index(['Indicator Name', 'Indicator Code', '1991', '1992', '1993', '1994',\n",
       "       '1995', '1996', '1997', '1998', '1999', '2000', '2001', '2002', '2003',\n",
       "       '2004', '2005', '2006', '2007', '2008', '2009', '2010', '2011', '2012',\n",
       "       '2013', '2014', '2015', '2016', '2017', '2018', '2019', '2020', '2021',\n",
       "       '2022', '2023'],\n",
       "      dtype='object')"
      ]
     },
     "execution_count": 9,
     "metadata": {},
     "output_type": "execute_result"
    }
   ],
   "source": [
    "df.columns"
   ]
  },
  {
   "cell_type": "code",
   "execution_count": 10,
   "metadata": {},
   "outputs": [],
   "source": [
    "df.to_csv('uk_emp.csv')"
   ]
  },
  {
   "cell_type": "code",
   "execution_count": 18,
   "metadata": {},
   "outputs": [],
   "source": [
    "data = pd.read_csv('uk_emp.csv', index_col=0)\n",
    "data.set_index('Indicator Name', inplace=True)"
   ]
  },
  {
   "cell_type": "code",
   "execution_count": 20,
   "metadata": {},
   "outputs": [
    {
     "data": {
      "text/html": [
       "<div>\n",
       "<style scoped>\n",
       "    .dataframe tbody tr th:only-of-type {\n",
       "        vertical-align: middle;\n",
       "    }\n",
       "\n",
       "    .dataframe tbody tr th {\n",
       "        vertical-align: top;\n",
       "    }\n",
       "\n",
       "    .dataframe thead th {\n",
       "        text-align: right;\n",
       "    }\n",
       "</style>\n",
       "<table border=\"1\" class=\"dataframe\">\n",
       "  <thead>\n",
       "    <tr style=\"text-align: right;\">\n",
       "      <th>Indicator Name</th>\n",
       "      <th>Armed forces personnel (% of total labor force)</th>\n",
       "      <th>Employers, female (% of female employment) (modeled ILO estimate)</th>\n",
       "      <th>Employers, male (% of male employment) (modeled ILO estimate)</th>\n",
       "      <th>Employers, total (% of total employment) (modeled ILO estimate)</th>\n",
       "      <th>Employment in agriculture (% of total employment) (modeled ILO estimate)</th>\n",
       "      <th>Employment in agriculture, female (% of female employment) (modeled ILO estimate)</th>\n",
       "      <th>Employment in agriculture, male (% of male employment) (modeled ILO estimate)</th>\n",
       "      <th>Employment in industry (% of total employment) (modeled ILO estimate)</th>\n",
       "      <th>Employment in industry, female (% of female employment) (modeled ILO estimate)</th>\n",
       "      <th>Employment in industry, male (% of male employment) (modeled ILO estimate)</th>\n",
       "      <th>Employment in services (% of total employment) (modeled ILO estimate)</th>\n",
       "      <th>Employment in services, female (% of female employment) (modeled ILO estimate)</th>\n",
       "      <th>Employment in services, male (% of male employment) (modeled ILO estimate)</th>\n",
       "      <th>Labor force, female (% of total labor force)</th>\n",
       "      <th>Labor force, total</th>\n",
       "      <th>Part time employment, female (% of total female employment)</th>\n",
       "      <th>Part time employment, male (% of total male employment)</th>\n",
       "      <th>Part time employment, total (% of total employment)</th>\n",
       "      <th>Ratio of female to male labor force participation rate (%) (modeled ILO estimate)</th>\n",
       "      <th>Self-employed, female (% of female employment) (modeled ILO estimate)</th>\n",
       "      <th>Self-employed, male (% of male employment) (modeled ILO estimate)</th>\n",
       "      <th>Self-employed, total (% of total employment) (modeled ILO estimate)</th>\n",
       "      <th>Unemployment, female (% of female labor force) (modeled ILO estimate)</th>\n",
       "      <th>Unemployment, male (% of male labor force) (modeled ILO estimate)</th>\n",
       "      <th>Unemployment, total (% of total labor force) (modeled ILO estimate)</th>\n",
       "      <th>Vulnerable employment, female (% of female employment) (modeled ILO estimate)</th>\n",
       "      <th>Vulnerable employment, male (% of male employment) (modeled ILO estimate)</th>\n",
       "      <th>Vulnerable employment, total (% of total employment) (modeled ILO estimate)</th>\n",
       "    </tr>\n",
       "  </thead>\n",
       "  <tbody>\n",
       "    <tr>\n",
       "      <th>Indicator Code</th>\n",
       "      <td>MS.MIL.TOTL.TF.ZS</td>\n",
       "      <td>SL.EMP.MPYR.FE.ZS</td>\n",
       "      <td>SL.EMP.MPYR.MA.ZS</td>\n",
       "      <td>SL.EMP.MPYR.ZS</td>\n",
       "      <td>SL.AGR.EMPL.ZS</td>\n",
       "      <td>SL.AGR.EMPL.FE.ZS</td>\n",
       "      <td>SL.AGR.EMPL.MA.ZS</td>\n",
       "      <td>SL.IND.EMPL.ZS</td>\n",
       "      <td>SL.IND.EMPL.FE.ZS</td>\n",
       "      <td>SL.IND.EMPL.MA.ZS</td>\n",
       "      <td>SL.SRV.EMPL.ZS</td>\n",
       "      <td>SL.SRV.EMPL.FE.ZS</td>\n",
       "      <td>SL.SRV.EMPL.MA.ZS</td>\n",
       "      <td>SL.TLF.TOTL.FE.ZS</td>\n",
       "      <td>SL.TLF.TOTL.IN</td>\n",
       "      <td>SL.TLF.PART.FE.ZS</td>\n",
       "      <td>SL.TLF.PART.MA.ZS</td>\n",
       "      <td>SL.TLF.PART.ZS</td>\n",
       "      <td>SL.TLF.CACT.FM.ZS</td>\n",
       "      <td>SL.EMP.SELF.FE.ZS</td>\n",
       "      <td>SL.EMP.SELF.MA.ZS</td>\n",
       "      <td>SL.EMP.SELF.ZS</td>\n",
       "      <td>SL.UEM.TOTL.FE.ZS</td>\n",
       "      <td>SL.UEM.TOTL.MA.ZS</td>\n",
       "      <td>SL.UEM.TOTL.ZS</td>\n",
       "      <td>SL.EMP.VULN.FE.ZS</td>\n",
       "      <td>SL.EMP.VULN.MA.ZS</td>\n",
       "      <td>SL.EMP.VULN.ZS</td>\n",
       "    </tr>\n",
       "    <tr>\n",
       "      <th>1991</th>\n",
       "      <td>1.034938</td>\n",
       "      <td>2.071416</td>\n",
       "      <td>5.451175</td>\n",
       "      <td>3.964613</td>\n",
       "      <td>2.165177</td>\n",
       "      <td>1.166189</td>\n",
       "      <td>2.949595</td>\n",
       "      <td>30.425698</td>\n",
       "      <td>16.451258</td>\n",
       "      <td>41.398603</td>\n",
       "      <td>67.409125</td>\n",
       "      <td>82.382545</td>\n",
       "      <td>55.651802</td>\n",
       "      <td>43.440749</td>\n",
       "      <td>29083861.0</td>\n",
       "      <td>58.89</td>\n",
       "      <td>23.82</td>\n",
       "      <td>39.15</td>\n",
       "      <td>70.83542</td>\n",
       "      <td>8.692886</td>\n",
       "      <td>18.146675</td>\n",
       "      <td>13.988496</td>\n",
       "      <td>7.403</td>\n",
       "      <td>9.431</td>\n",
       "      <td>8.55</td>\n",
       "      <td>6.62147</td>\n",
       "      <td>12.6955</td>\n",
       "      <td>10.023879</td>\n",
       "    </tr>\n",
       "    <tr>\n",
       "      <th>1992</th>\n",
       "      <td>1.011012</td>\n",
       "      <td>1.821551</td>\n",
       "      <td>4.9977</td>\n",
       "      <td>3.571861</td>\n",
       "      <td>2.111121</td>\n",
       "      <td>1.132115</td>\n",
       "      <td>2.908641</td>\n",
       "      <td>29.930716</td>\n",
       "      <td>16.166012</td>\n",
       "      <td>41.143743</td>\n",
       "      <td>67.958159</td>\n",
       "      <td>82.701873</td>\n",
       "      <td>55.947623</td>\n",
       "      <td>43.754765</td>\n",
       "      <td>28980864.0</td>\n",
       "      <td>60.39</td>\n",
       "      <td>26.5</td>\n",
       "      <td>41.56</td>\n",
       "      <td>71.736961</td>\n",
       "      <td>7.990265</td>\n",
       "      <td>17.597703</td>\n",
       "      <td>13.284724</td>\n",
       "      <td>7.428</td>\n",
       "      <td>11.596</td>\n",
       "      <td>9.772</td>\n",
       "      <td>6.168706</td>\n",
       "      <td>12.600003</td>\n",
       "      <td>9.712864</td>\n",
       "    </tr>\n",
       "    <tr>\n",
       "      <th>1993</th>\n",
       "      <td>0.941825</td>\n",
       "      <td>1.832719</td>\n",
       "      <td>4.78889</td>\n",
       "      <td>3.445334</td>\n",
       "      <td>2.047451</td>\n",
       "      <td>1.081204</td>\n",
       "      <td>2.852484</td>\n",
       "      <td>29.392396</td>\n",
       "      <td>15.82816</td>\n",
       "      <td>40.693485</td>\n",
       "      <td>68.560149</td>\n",
       "      <td>83.09062</td>\n",
       "      <td>56.454031</td>\n",
       "      <td>44.172166</td>\n",
       "      <td>28773930.0</td>\n",
       "      <td>59.61</td>\n",
       "      <td>25.24</td>\n",
       "      <td>40.69</td>\n",
       "      <td>72.965467</td>\n",
       "      <td>7.967716</td>\n",
       "      <td>17.462428</td>\n",
       "      <td>13.147159</td>\n",
       "      <td>7.758</td>\n",
       "      <td>12.393</td>\n",
       "      <td>10.346</td>\n",
       "      <td>6.134997</td>\n",
       "      <td>12.673538</td>\n",
       "      <td>9.701825</td>\n",
       "    </tr>\n",
       "    <tr>\n",
       "      <th>1994</th>\n",
       "      <td>0.893465</td>\n",
       "      <td>1.786122</td>\n",
       "      <td>4.660436</td>\n",
       "      <td>3.355197</td>\n",
       "      <td>2.078798</td>\n",
       "      <td>1.156117</td>\n",
       "      <td>2.846337</td>\n",
       "      <td>27.780677</td>\n",
       "      <td>14.329842</td>\n",
       "      <td>38.969846</td>\n",
       "      <td>70.140528</td>\n",
       "      <td>84.514041</td>\n",
       "      <td>58.183831</td>\n",
       "      <td>44.307299</td>\n",
       "      <td>28764405.0</td>\n",
       "      <td>59.83</td>\n",
       "      <td>25.13</td>\n",
       "      <td>40.7</td>\n",
       "      <td>73.385803</td>\n",
       "      <td>8.009235</td>\n",
       "      <td>18.023474</td>\n",
       "      <td>13.475951</td>\n",
       "      <td>7.397</td>\n",
       "      <td>11.438</td>\n",
       "      <td>9.648</td>\n",
       "      <td>6.223113</td>\n",
       "      <td>13.363038</td>\n",
       "      <td>10.120754</td>\n",
       "    </tr>\n",
       "  </tbody>\n",
       "</table>\n",
       "</div>"
      ],
      "text/plain": [
       "Indicator Name Armed forces personnel (% of total labor force)  \\\n",
       "Indicator Code                               MS.MIL.TOTL.TF.ZS   \n",
       "1991                                                  1.034938   \n",
       "1992                                                  1.011012   \n",
       "1993                                                  0.941825   \n",
       "1994                                                  0.893465   \n",
       "\n",
       "Indicator Name Employers, female (% of female employment) (modeled ILO estimate)  \\\n",
       "Indicator Code                                  SL.EMP.MPYR.FE.ZS                  \n",
       "1991                                                     2.071416                  \n",
       "1992                                                     1.821551                  \n",
       "1993                                                     1.832719                  \n",
       "1994                                                     1.786122                  \n",
       "\n",
       "Indicator Name Employers, male (% of male employment) (modeled ILO estimate)  \\\n",
       "Indicator Code                                  SL.EMP.MPYR.MA.ZS              \n",
       "1991                                                     5.451175              \n",
       "1992                                                       4.9977              \n",
       "1993                                                      4.78889              \n",
       "1994                                                     4.660436              \n",
       "\n",
       "Indicator Name Employers, total (% of total employment) (modeled ILO estimate)  \\\n",
       "Indicator Code                                     SL.EMP.MPYR.ZS                \n",
       "1991                                                     3.964613                \n",
       "1992                                                     3.571861                \n",
       "1993                                                     3.445334                \n",
       "1994                                                     3.355197                \n",
       "\n",
       "Indicator Name Employment in agriculture (% of total employment) (modeled ILO estimate)  \\\n",
       "Indicator Code                                     SL.AGR.EMPL.ZS                         \n",
       "1991                                                     2.165177                         \n",
       "1992                                                     2.111121                         \n",
       "1993                                                     2.047451                         \n",
       "1994                                                     2.078798                         \n",
       "\n",
       "Indicator Name Employment in agriculture, female (% of female employment) (modeled ILO estimate)  \\\n",
       "Indicator Code                                  SL.AGR.EMPL.FE.ZS                                  \n",
       "1991                                                     1.166189                                  \n",
       "1992                                                     1.132115                                  \n",
       "1993                                                     1.081204                                  \n",
       "1994                                                     1.156117                                  \n",
       "\n",
       "Indicator Name Employment in agriculture, male (% of male employment) (modeled ILO estimate)  \\\n",
       "Indicator Code                                  SL.AGR.EMPL.MA.ZS                              \n",
       "1991                                                     2.949595                              \n",
       "1992                                                     2.908641                              \n",
       "1993                                                     2.852484                              \n",
       "1994                                                     2.846337                              \n",
       "\n",
       "Indicator Name Employment in industry (% of total employment) (modeled ILO estimate)  \\\n",
       "Indicator Code                                     SL.IND.EMPL.ZS                      \n",
       "1991                                                    30.425698                      \n",
       "1992                                                    29.930716                      \n",
       "1993                                                    29.392396                      \n",
       "1994                                                    27.780677                      \n",
       "\n",
       "Indicator Name Employment in industry, female (% of female employment) (modeled ILO estimate)  \\\n",
       "Indicator Code                                  SL.IND.EMPL.FE.ZS                               \n",
       "1991                                                    16.451258                               \n",
       "1992                                                    16.166012                               \n",
       "1993                                                     15.82816                               \n",
       "1994                                                    14.329842                               \n",
       "\n",
       "Indicator Name Employment in industry, male (% of male employment) (modeled ILO estimate)  \\\n",
       "Indicator Code                                  SL.IND.EMPL.MA.ZS                           \n",
       "1991                                                    41.398603                           \n",
       "1992                                                    41.143743                           \n",
       "1993                                                    40.693485                           \n",
       "1994                                                    38.969846                           \n",
       "\n",
       "Indicator Name Employment in services (% of total employment) (modeled ILO estimate)  \\\n",
       "Indicator Code                                     SL.SRV.EMPL.ZS                      \n",
       "1991                                                    67.409125                      \n",
       "1992                                                    67.958159                      \n",
       "1993                                                    68.560149                      \n",
       "1994                                                    70.140528                      \n",
       "\n",
       "Indicator Name Employment in services, female (% of female employment) (modeled ILO estimate)  \\\n",
       "Indicator Code                                  SL.SRV.EMPL.FE.ZS                               \n",
       "1991                                                    82.382545                               \n",
       "1992                                                    82.701873                               \n",
       "1993                                                     83.09062                               \n",
       "1994                                                    84.514041                               \n",
       "\n",
       "Indicator Name Employment in services, male (% of male employment) (modeled ILO estimate)  \\\n",
       "Indicator Code                                  SL.SRV.EMPL.MA.ZS                           \n",
       "1991                                                    55.651802                           \n",
       "1992                                                    55.947623                           \n",
       "1993                                                    56.454031                           \n",
       "1994                                                    58.183831                           \n",
       "\n",
       "Indicator Name Labor force, female (% of total labor force)  \\\n",
       "Indicator Code                            SL.TLF.TOTL.FE.ZS   \n",
       "1991                                              43.440749   \n",
       "1992                                              43.754765   \n",
       "1993                                              44.172166   \n",
       "1994                                              44.307299   \n",
       "\n",
       "Indicator Name Labor force, total  \\\n",
       "Indicator Code     SL.TLF.TOTL.IN   \n",
       "1991                   29083861.0   \n",
       "1992                   28980864.0   \n",
       "1993                   28773930.0   \n",
       "1994                   28764405.0   \n",
       "\n",
       "Indicator Name Part time employment, female (% of total female employment)  \\\n",
       "Indicator Code                                  SL.TLF.PART.FE.ZS            \n",
       "1991                                                        58.89            \n",
       "1992                                                        60.39            \n",
       "1993                                                        59.61            \n",
       "1994                                                        59.83            \n",
       "\n",
       "Indicator Name Part time employment, male (% of total male employment)  \\\n",
       "Indicator Code                                  SL.TLF.PART.MA.ZS        \n",
       "1991                                                        23.82        \n",
       "1992                                                         26.5        \n",
       "1993                                                        25.24        \n",
       "1994                                                        25.13        \n",
       "\n",
       "Indicator Name Part time employment, total (% of total employment)  \\\n",
       "Indicator Code                                     SL.TLF.PART.ZS    \n",
       "1991                                                        39.15    \n",
       "1992                                                        41.56    \n",
       "1993                                                        40.69    \n",
       "1994                                                         40.7    \n",
       "\n",
       "Indicator Name Ratio of female to male labor force participation rate (%) (modeled ILO estimate)  \\\n",
       "Indicator Code                                  SL.TLF.CACT.FM.ZS                                  \n",
       "1991                                                     70.83542                                  \n",
       "1992                                                    71.736961                                  \n",
       "1993                                                    72.965467                                  \n",
       "1994                                                    73.385803                                  \n",
       "\n",
       "Indicator Name Self-employed, female (% of female employment) (modeled ILO estimate)  \\\n",
       "Indicator Code                                  SL.EMP.SELF.FE.ZS                      \n",
       "1991                                                     8.692886                      \n",
       "1992                                                     7.990265                      \n",
       "1993                                                     7.967716                      \n",
       "1994                                                     8.009235                      \n",
       "\n",
       "Indicator Name Self-employed, male (% of male employment) (modeled ILO estimate)  \\\n",
       "Indicator Code                                  SL.EMP.SELF.MA.ZS                  \n",
       "1991                                                    18.146675                  \n",
       "1992                                                    17.597703                  \n",
       "1993                                                    17.462428                  \n",
       "1994                                                    18.023474                  \n",
       "\n",
       "Indicator Name Self-employed, total (% of total employment) (modeled ILO estimate)  \\\n",
       "Indicator Code                                     SL.EMP.SELF.ZS                    \n",
       "1991                                                    13.988496                    \n",
       "1992                                                    13.284724                    \n",
       "1993                                                    13.147159                    \n",
       "1994                                                    13.475951                    \n",
       "\n",
       "Indicator Name Unemployment, female (% of female labor force) (modeled ILO estimate)  \\\n",
       "Indicator Code                                  SL.UEM.TOTL.FE.ZS                      \n",
       "1991                                                        7.403                      \n",
       "1992                                                        7.428                      \n",
       "1993                                                        7.758                      \n",
       "1994                                                        7.397                      \n",
       "\n",
       "Indicator Name Unemployment, male (% of male labor force) (modeled ILO estimate)  \\\n",
       "Indicator Code                                  SL.UEM.TOTL.MA.ZS                  \n",
       "1991                                                        9.431                  \n",
       "1992                                                       11.596                  \n",
       "1993                                                       12.393                  \n",
       "1994                                                       11.438                  \n",
       "\n",
       "Indicator Name Unemployment, total (% of total labor force) (modeled ILO estimate)  \\\n",
       "Indicator Code                                     SL.UEM.TOTL.ZS                    \n",
       "1991                                                         8.55                    \n",
       "1992                                                        9.772                    \n",
       "1993                                                       10.346                    \n",
       "1994                                                        9.648                    \n",
       "\n",
       "Indicator Name Vulnerable employment, female (% of female employment) (modeled ILO estimate)  \\\n",
       "Indicator Code                                  SL.EMP.VULN.FE.ZS                              \n",
       "1991                                                      6.62147                              \n",
       "1992                                                     6.168706                              \n",
       "1993                                                     6.134997                              \n",
       "1994                                                     6.223113                              \n",
       "\n",
       "Indicator Name Vulnerable employment, male (% of male employment) (modeled ILO estimate)  \\\n",
       "Indicator Code                                  SL.EMP.VULN.MA.ZS                          \n",
       "1991                                                      12.6955                          \n",
       "1992                                                    12.600003                          \n",
       "1993                                                    12.673538                          \n",
       "1994                                                    13.363038                          \n",
       "\n",
       "Indicator Name Vulnerable employment, total (% of total employment) (modeled ILO estimate)  \n",
       "Indicator Code                                     SL.EMP.VULN.ZS                           \n",
       "1991                                                    10.023879                           \n",
       "1992                                                     9.712864                           \n",
       "1993                                                     9.701825                           \n",
       "1994                                                    10.120754                           "
      ]
     },
     "execution_count": 20,
     "metadata": {},
     "output_type": "execute_result"
    }
   ],
   "source": [
    "dfy = data.transpose()\n",
    "dfy.head()"
   ]
  },
  {
   "cell_type": "code",
   "execution_count": 22,
   "metadata": {},
   "outputs": [],
   "source": [
    "# Reset the index to turn the years into a column\n",
    "dfy.reset_index(inplace=True)\n",
    "dfy.rename(columns={'index': 'Year'}, inplace=True)"
   ]
  },
  {
   "cell_type": "code",
   "execution_count": 23,
   "metadata": {},
   "outputs": [
    {
     "data": {
      "text/html": [
       "<div>\n",
       "<style scoped>\n",
       "    .dataframe tbody tr th:only-of-type {\n",
       "        vertical-align: middle;\n",
       "    }\n",
       "\n",
       "    .dataframe tbody tr th {\n",
       "        vertical-align: top;\n",
       "    }\n",
       "\n",
       "    .dataframe thead th {\n",
       "        text-align: right;\n",
       "    }\n",
       "</style>\n",
       "<table border=\"1\" class=\"dataframe\">\n",
       "  <thead>\n",
       "    <tr style=\"text-align: right;\">\n",
       "      <th>Indicator Name</th>\n",
       "      <th>Year</th>\n",
       "      <th>Armed forces personnel (% of total labor force)</th>\n",
       "      <th>Employers, female (% of female employment) (modeled ILO estimate)</th>\n",
       "      <th>Employers, male (% of male employment) (modeled ILO estimate)</th>\n",
       "      <th>Employers, total (% of total employment) (modeled ILO estimate)</th>\n",
       "      <th>Employment in agriculture (% of total employment) (modeled ILO estimate)</th>\n",
       "      <th>Employment in agriculture, female (% of female employment) (modeled ILO estimate)</th>\n",
       "      <th>Employment in agriculture, male (% of male employment) (modeled ILO estimate)</th>\n",
       "      <th>Employment in industry (% of total employment) (modeled ILO estimate)</th>\n",
       "      <th>Employment in industry, female (% of female employment) (modeled ILO estimate)</th>\n",
       "      <th>Employment in industry, male (% of male employment) (modeled ILO estimate)</th>\n",
       "      <th>Employment in services (% of total employment) (modeled ILO estimate)</th>\n",
       "      <th>Employment in services, female (% of female employment) (modeled ILO estimate)</th>\n",
       "      <th>Employment in services, male (% of male employment) (modeled ILO estimate)</th>\n",
       "      <th>Labor force, female (% of total labor force)</th>\n",
       "      <th>Labor force, total</th>\n",
       "      <th>Part time employment, female (% of total female employment)</th>\n",
       "      <th>Part time employment, male (% of total male employment)</th>\n",
       "      <th>Part time employment, total (% of total employment)</th>\n",
       "      <th>Ratio of female to male labor force participation rate (%) (modeled ILO estimate)</th>\n",
       "      <th>Self-employed, female (% of female employment) (modeled ILO estimate)</th>\n",
       "      <th>Self-employed, male (% of male employment) (modeled ILO estimate)</th>\n",
       "      <th>Self-employed, total (% of total employment) (modeled ILO estimate)</th>\n",
       "      <th>Unemployment, female (% of female labor force) (modeled ILO estimate)</th>\n",
       "      <th>Unemployment, male (% of male labor force) (modeled ILO estimate)</th>\n",
       "      <th>Unemployment, total (% of total labor force) (modeled ILO estimate)</th>\n",
       "      <th>Vulnerable employment, female (% of female employment) (modeled ILO estimate)</th>\n",
       "      <th>Vulnerable employment, male (% of male employment) (modeled ILO estimate)</th>\n",
       "      <th>Vulnerable employment, total (% of total employment) (modeled ILO estimate)</th>\n",
       "    </tr>\n",
       "  </thead>\n",
       "  <tbody>\n",
       "    <tr>\n",
       "      <th>0</th>\n",
       "      <td>Indicator Code</td>\n",
       "      <td>MS.MIL.TOTL.TF.ZS</td>\n",
       "      <td>SL.EMP.MPYR.FE.ZS</td>\n",
       "      <td>SL.EMP.MPYR.MA.ZS</td>\n",
       "      <td>SL.EMP.MPYR.ZS</td>\n",
       "      <td>SL.AGR.EMPL.ZS</td>\n",
       "      <td>SL.AGR.EMPL.FE.ZS</td>\n",
       "      <td>SL.AGR.EMPL.MA.ZS</td>\n",
       "      <td>SL.IND.EMPL.ZS</td>\n",
       "      <td>SL.IND.EMPL.FE.ZS</td>\n",
       "      <td>SL.IND.EMPL.MA.ZS</td>\n",
       "      <td>SL.SRV.EMPL.ZS</td>\n",
       "      <td>SL.SRV.EMPL.FE.ZS</td>\n",
       "      <td>SL.SRV.EMPL.MA.ZS</td>\n",
       "      <td>SL.TLF.TOTL.FE.ZS</td>\n",
       "      <td>SL.TLF.TOTL.IN</td>\n",
       "      <td>SL.TLF.PART.FE.ZS</td>\n",
       "      <td>SL.TLF.PART.MA.ZS</td>\n",
       "      <td>SL.TLF.PART.ZS</td>\n",
       "      <td>SL.TLF.CACT.FM.ZS</td>\n",
       "      <td>SL.EMP.SELF.FE.ZS</td>\n",
       "      <td>SL.EMP.SELF.MA.ZS</td>\n",
       "      <td>SL.EMP.SELF.ZS</td>\n",
       "      <td>SL.UEM.TOTL.FE.ZS</td>\n",
       "      <td>SL.UEM.TOTL.MA.ZS</td>\n",
       "      <td>SL.UEM.TOTL.ZS</td>\n",
       "      <td>SL.EMP.VULN.FE.ZS</td>\n",
       "      <td>SL.EMP.VULN.MA.ZS</td>\n",
       "      <td>SL.EMP.VULN.ZS</td>\n",
       "    </tr>\n",
       "    <tr>\n",
       "      <th>1</th>\n",
       "      <td>1991</td>\n",
       "      <td>1.034938</td>\n",
       "      <td>2.071416</td>\n",
       "      <td>5.451175</td>\n",
       "      <td>3.964613</td>\n",
       "      <td>2.165177</td>\n",
       "      <td>1.166189</td>\n",
       "      <td>2.949595</td>\n",
       "      <td>30.425698</td>\n",
       "      <td>16.451258</td>\n",
       "      <td>41.398603</td>\n",
       "      <td>67.409125</td>\n",
       "      <td>82.382545</td>\n",
       "      <td>55.651802</td>\n",
       "      <td>43.440749</td>\n",
       "      <td>29083861.0</td>\n",
       "      <td>58.89</td>\n",
       "      <td>23.82</td>\n",
       "      <td>39.15</td>\n",
       "      <td>70.83542</td>\n",
       "      <td>8.692886</td>\n",
       "      <td>18.146675</td>\n",
       "      <td>13.988496</td>\n",
       "      <td>7.403</td>\n",
       "      <td>9.431</td>\n",
       "      <td>8.55</td>\n",
       "      <td>6.62147</td>\n",
       "      <td>12.6955</td>\n",
       "      <td>10.023879</td>\n",
       "    </tr>\n",
       "    <tr>\n",
       "      <th>2</th>\n",
       "      <td>1992</td>\n",
       "      <td>1.011012</td>\n",
       "      <td>1.821551</td>\n",
       "      <td>4.9977</td>\n",
       "      <td>3.571861</td>\n",
       "      <td>2.111121</td>\n",
       "      <td>1.132115</td>\n",
       "      <td>2.908641</td>\n",
       "      <td>29.930716</td>\n",
       "      <td>16.166012</td>\n",
       "      <td>41.143743</td>\n",
       "      <td>67.958159</td>\n",
       "      <td>82.701873</td>\n",
       "      <td>55.947623</td>\n",
       "      <td>43.754765</td>\n",
       "      <td>28980864.0</td>\n",
       "      <td>60.39</td>\n",
       "      <td>26.5</td>\n",
       "      <td>41.56</td>\n",
       "      <td>71.736961</td>\n",
       "      <td>7.990265</td>\n",
       "      <td>17.597703</td>\n",
       "      <td>13.284724</td>\n",
       "      <td>7.428</td>\n",
       "      <td>11.596</td>\n",
       "      <td>9.772</td>\n",
       "      <td>6.168706</td>\n",
       "      <td>12.600003</td>\n",
       "      <td>9.712864</td>\n",
       "    </tr>\n",
       "    <tr>\n",
       "      <th>3</th>\n",
       "      <td>1993</td>\n",
       "      <td>0.941825</td>\n",
       "      <td>1.832719</td>\n",
       "      <td>4.78889</td>\n",
       "      <td>3.445334</td>\n",
       "      <td>2.047451</td>\n",
       "      <td>1.081204</td>\n",
       "      <td>2.852484</td>\n",
       "      <td>29.392396</td>\n",
       "      <td>15.82816</td>\n",
       "      <td>40.693485</td>\n",
       "      <td>68.560149</td>\n",
       "      <td>83.09062</td>\n",
       "      <td>56.454031</td>\n",
       "      <td>44.172166</td>\n",
       "      <td>28773930.0</td>\n",
       "      <td>59.61</td>\n",
       "      <td>25.24</td>\n",
       "      <td>40.69</td>\n",
       "      <td>72.965467</td>\n",
       "      <td>7.967716</td>\n",
       "      <td>17.462428</td>\n",
       "      <td>13.147159</td>\n",
       "      <td>7.758</td>\n",
       "      <td>12.393</td>\n",
       "      <td>10.346</td>\n",
       "      <td>6.134997</td>\n",
       "      <td>12.673538</td>\n",
       "      <td>9.701825</td>\n",
       "    </tr>\n",
       "    <tr>\n",
       "      <th>4</th>\n",
       "      <td>1994</td>\n",
       "      <td>0.893465</td>\n",
       "      <td>1.786122</td>\n",
       "      <td>4.660436</td>\n",
       "      <td>3.355197</td>\n",
       "      <td>2.078798</td>\n",
       "      <td>1.156117</td>\n",
       "      <td>2.846337</td>\n",
       "      <td>27.780677</td>\n",
       "      <td>14.329842</td>\n",
       "      <td>38.969846</td>\n",
       "      <td>70.140528</td>\n",
       "      <td>84.514041</td>\n",
       "      <td>58.183831</td>\n",
       "      <td>44.307299</td>\n",
       "      <td>28764405.0</td>\n",
       "      <td>59.83</td>\n",
       "      <td>25.13</td>\n",
       "      <td>40.7</td>\n",
       "      <td>73.385803</td>\n",
       "      <td>8.009235</td>\n",
       "      <td>18.023474</td>\n",
       "      <td>13.475951</td>\n",
       "      <td>7.397</td>\n",
       "      <td>11.438</td>\n",
       "      <td>9.648</td>\n",
       "      <td>6.223113</td>\n",
       "      <td>13.363038</td>\n",
       "      <td>10.120754</td>\n",
       "    </tr>\n",
       "  </tbody>\n",
       "</table>\n",
       "</div>"
      ],
      "text/plain": [
       "Indicator Name            Year  \\\n",
       "0               Indicator Code   \n",
       "1                         1991   \n",
       "2                         1992   \n",
       "3                         1993   \n",
       "4                         1994   \n",
       "\n",
       "Indicator Name Armed forces personnel (% of total labor force)  \\\n",
       "0                                            MS.MIL.TOTL.TF.ZS   \n",
       "1                                                     1.034938   \n",
       "2                                                     1.011012   \n",
       "3                                                     0.941825   \n",
       "4                                                     0.893465   \n",
       "\n",
       "Indicator Name Employers, female (% of female employment) (modeled ILO estimate)  \\\n",
       "0                                               SL.EMP.MPYR.FE.ZS                  \n",
       "1                                                        2.071416                  \n",
       "2                                                        1.821551                  \n",
       "3                                                        1.832719                  \n",
       "4                                                        1.786122                  \n",
       "\n",
       "Indicator Name Employers, male (% of male employment) (modeled ILO estimate)  \\\n",
       "0                                               SL.EMP.MPYR.MA.ZS              \n",
       "1                                                        5.451175              \n",
       "2                                                          4.9977              \n",
       "3                                                         4.78889              \n",
       "4                                                        4.660436              \n",
       "\n",
       "Indicator Name Employers, total (% of total employment) (modeled ILO estimate)  \\\n",
       "0                                                  SL.EMP.MPYR.ZS                \n",
       "1                                                        3.964613                \n",
       "2                                                        3.571861                \n",
       "3                                                        3.445334                \n",
       "4                                                        3.355197                \n",
       "\n",
       "Indicator Name Employment in agriculture (% of total employment) (modeled ILO estimate)  \\\n",
       "0                                                  SL.AGR.EMPL.ZS                         \n",
       "1                                                        2.165177                         \n",
       "2                                                        2.111121                         \n",
       "3                                                        2.047451                         \n",
       "4                                                        2.078798                         \n",
       "\n",
       "Indicator Name Employment in agriculture, female (% of female employment) (modeled ILO estimate)  \\\n",
       "0                                               SL.AGR.EMPL.FE.ZS                                  \n",
       "1                                                        1.166189                                  \n",
       "2                                                        1.132115                                  \n",
       "3                                                        1.081204                                  \n",
       "4                                                        1.156117                                  \n",
       "\n",
       "Indicator Name Employment in agriculture, male (% of male employment) (modeled ILO estimate)  \\\n",
       "0                                               SL.AGR.EMPL.MA.ZS                              \n",
       "1                                                        2.949595                              \n",
       "2                                                        2.908641                              \n",
       "3                                                        2.852484                              \n",
       "4                                                        2.846337                              \n",
       "\n",
       "Indicator Name Employment in industry (% of total employment) (modeled ILO estimate)  \\\n",
       "0                                                  SL.IND.EMPL.ZS                      \n",
       "1                                                       30.425698                      \n",
       "2                                                       29.930716                      \n",
       "3                                                       29.392396                      \n",
       "4                                                       27.780677                      \n",
       "\n",
       "Indicator Name Employment in industry, female (% of female employment) (modeled ILO estimate)  \\\n",
       "0                                               SL.IND.EMPL.FE.ZS                               \n",
       "1                                                       16.451258                               \n",
       "2                                                       16.166012                               \n",
       "3                                                        15.82816                               \n",
       "4                                                       14.329842                               \n",
       "\n",
       "Indicator Name Employment in industry, male (% of male employment) (modeled ILO estimate)  \\\n",
       "0                                               SL.IND.EMPL.MA.ZS                           \n",
       "1                                                       41.398603                           \n",
       "2                                                       41.143743                           \n",
       "3                                                       40.693485                           \n",
       "4                                                       38.969846                           \n",
       "\n",
       "Indicator Name Employment in services (% of total employment) (modeled ILO estimate)  \\\n",
       "0                                                  SL.SRV.EMPL.ZS                      \n",
       "1                                                       67.409125                      \n",
       "2                                                       67.958159                      \n",
       "3                                                       68.560149                      \n",
       "4                                                       70.140528                      \n",
       "\n",
       "Indicator Name Employment in services, female (% of female employment) (modeled ILO estimate)  \\\n",
       "0                                               SL.SRV.EMPL.FE.ZS                               \n",
       "1                                                       82.382545                               \n",
       "2                                                       82.701873                               \n",
       "3                                                        83.09062                               \n",
       "4                                                       84.514041                               \n",
       "\n",
       "Indicator Name Employment in services, male (% of male employment) (modeled ILO estimate)  \\\n",
       "0                                               SL.SRV.EMPL.MA.ZS                           \n",
       "1                                                       55.651802                           \n",
       "2                                                       55.947623                           \n",
       "3                                                       56.454031                           \n",
       "4                                                       58.183831                           \n",
       "\n",
       "Indicator Name Labor force, female (% of total labor force)  \\\n",
       "0                                         SL.TLF.TOTL.FE.ZS   \n",
       "1                                                 43.440749   \n",
       "2                                                 43.754765   \n",
       "3                                                 44.172166   \n",
       "4                                                 44.307299   \n",
       "\n",
       "Indicator Name Labor force, total  \\\n",
       "0                  SL.TLF.TOTL.IN   \n",
       "1                      29083861.0   \n",
       "2                      28980864.0   \n",
       "3                      28773930.0   \n",
       "4                      28764405.0   \n",
       "\n",
       "Indicator Name Part time employment, female (% of total female employment)  \\\n",
       "0                                               SL.TLF.PART.FE.ZS            \n",
       "1                                                           58.89            \n",
       "2                                                           60.39            \n",
       "3                                                           59.61            \n",
       "4                                                           59.83            \n",
       "\n",
       "Indicator Name Part time employment, male (% of total male employment)  \\\n",
       "0                                               SL.TLF.PART.MA.ZS        \n",
       "1                                                           23.82        \n",
       "2                                                            26.5        \n",
       "3                                                           25.24        \n",
       "4                                                           25.13        \n",
       "\n",
       "Indicator Name Part time employment, total (% of total employment)  \\\n",
       "0                                                  SL.TLF.PART.ZS    \n",
       "1                                                           39.15    \n",
       "2                                                           41.56    \n",
       "3                                                           40.69    \n",
       "4                                                            40.7    \n",
       "\n",
       "Indicator Name Ratio of female to male labor force participation rate (%) (modeled ILO estimate)  \\\n",
       "0                                               SL.TLF.CACT.FM.ZS                                  \n",
       "1                                                        70.83542                                  \n",
       "2                                                       71.736961                                  \n",
       "3                                                       72.965467                                  \n",
       "4                                                       73.385803                                  \n",
       "\n",
       "Indicator Name Self-employed, female (% of female employment) (modeled ILO estimate)  \\\n",
       "0                                               SL.EMP.SELF.FE.ZS                      \n",
       "1                                                        8.692886                      \n",
       "2                                                        7.990265                      \n",
       "3                                                        7.967716                      \n",
       "4                                                        8.009235                      \n",
       "\n",
       "Indicator Name Self-employed, male (% of male employment) (modeled ILO estimate)  \\\n",
       "0                                               SL.EMP.SELF.MA.ZS                  \n",
       "1                                                       18.146675                  \n",
       "2                                                       17.597703                  \n",
       "3                                                       17.462428                  \n",
       "4                                                       18.023474                  \n",
       "\n",
       "Indicator Name Self-employed, total (% of total employment) (modeled ILO estimate)  \\\n",
       "0                                                  SL.EMP.SELF.ZS                    \n",
       "1                                                       13.988496                    \n",
       "2                                                       13.284724                    \n",
       "3                                                       13.147159                    \n",
       "4                                                       13.475951                    \n",
       "\n",
       "Indicator Name Unemployment, female (% of female labor force) (modeled ILO estimate)  \\\n",
       "0                                               SL.UEM.TOTL.FE.ZS                      \n",
       "1                                                           7.403                      \n",
       "2                                                           7.428                      \n",
       "3                                                           7.758                      \n",
       "4                                                           7.397                      \n",
       "\n",
       "Indicator Name Unemployment, male (% of male labor force) (modeled ILO estimate)  \\\n",
       "0                                               SL.UEM.TOTL.MA.ZS                  \n",
       "1                                                           9.431                  \n",
       "2                                                          11.596                  \n",
       "3                                                          12.393                  \n",
       "4                                                          11.438                  \n",
       "\n",
       "Indicator Name Unemployment, total (% of total labor force) (modeled ILO estimate)  \\\n",
       "0                                                  SL.UEM.TOTL.ZS                    \n",
       "1                                                            8.55                    \n",
       "2                                                           9.772                    \n",
       "3                                                          10.346                    \n",
       "4                                                           9.648                    \n",
       "\n",
       "Indicator Name Vulnerable employment, female (% of female employment) (modeled ILO estimate)  \\\n",
       "0                                               SL.EMP.VULN.FE.ZS                              \n",
       "1                                                         6.62147                              \n",
       "2                                                        6.168706                              \n",
       "3                                                        6.134997                              \n",
       "4                                                        6.223113                              \n",
       "\n",
       "Indicator Name Vulnerable employment, male (% of male employment) (modeled ILO estimate)  \\\n",
       "0                                               SL.EMP.VULN.MA.ZS                          \n",
       "1                                                         12.6955                          \n",
       "2                                                       12.600003                          \n",
       "3                                                       12.673538                          \n",
       "4                                                       13.363038                          \n",
       "\n",
       "Indicator Name Vulnerable employment, total (% of total employment) (modeled ILO estimate)  \n",
       "0                                                  SL.EMP.VULN.ZS                           \n",
       "1                                                       10.023879                           \n",
       "2                                                        9.712864                           \n",
       "3                                                        9.701825                           \n",
       "4                                                       10.120754                           "
      ]
     },
     "execution_count": 23,
     "metadata": {},
     "output_type": "execute_result"
    }
   ],
   "source": [
    "dfy.head()"
   ]
  },
  {
   "cell_type": "code",
   "execution_count": 32,
   "metadata": {},
   "outputs": [],
   "source": [
    "dfy.drop(0,inplace=True)"
   ]
  },
  {
   "cell_type": "code",
   "execution_count": 33,
   "metadata": {},
   "outputs": [],
   "source": [
    "# Convert 'Year' to datetime\n",
    "dfy['Year'] = pd.to_datetime(dfy['Year'], format='%Y')\n",
    "\n",
    "# Set 'Year' as the index\n",
    "dfy.set_index('Year', inplace=True)"
   ]
  },
  {
   "cell_type": "code",
   "execution_count": 34,
   "metadata": {},
   "outputs": [
    {
     "data": {
      "text/html": [
       "<div>\n",
       "<style scoped>\n",
       "    .dataframe tbody tr th:only-of-type {\n",
       "        vertical-align: middle;\n",
       "    }\n",
       "\n",
       "    .dataframe tbody tr th {\n",
       "        vertical-align: top;\n",
       "    }\n",
       "\n",
       "    .dataframe thead th {\n",
       "        text-align: right;\n",
       "    }\n",
       "</style>\n",
       "<table border=\"1\" class=\"dataframe\">\n",
       "  <thead>\n",
       "    <tr style=\"text-align: right;\">\n",
       "      <th>Indicator Name</th>\n",
       "      <th>Armed forces personnel (% of total labor force)</th>\n",
       "      <th>Employers, female (% of female employment) (modeled ILO estimate)</th>\n",
       "      <th>Employers, male (% of male employment) (modeled ILO estimate)</th>\n",
       "      <th>Employers, total (% of total employment) (modeled ILO estimate)</th>\n",
       "      <th>Employment in agriculture (% of total employment) (modeled ILO estimate)</th>\n",
       "      <th>Employment in agriculture, female (% of female employment) (modeled ILO estimate)</th>\n",
       "      <th>Employment in agriculture, male (% of male employment) (modeled ILO estimate)</th>\n",
       "      <th>Employment in industry (% of total employment) (modeled ILO estimate)</th>\n",
       "      <th>Employment in industry, female (% of female employment) (modeled ILO estimate)</th>\n",
       "      <th>Employment in industry, male (% of male employment) (modeled ILO estimate)</th>\n",
       "      <th>Employment in services (% of total employment) (modeled ILO estimate)</th>\n",
       "      <th>Employment in services, female (% of female employment) (modeled ILO estimate)</th>\n",
       "      <th>Employment in services, male (% of male employment) (modeled ILO estimate)</th>\n",
       "      <th>Labor force, female (% of total labor force)</th>\n",
       "      <th>Labor force, total</th>\n",
       "      <th>Part time employment, female (% of total female employment)</th>\n",
       "      <th>Part time employment, male (% of total male employment)</th>\n",
       "      <th>Part time employment, total (% of total employment)</th>\n",
       "      <th>Ratio of female to male labor force participation rate (%) (modeled ILO estimate)</th>\n",
       "      <th>Self-employed, female (% of female employment) (modeled ILO estimate)</th>\n",
       "      <th>Self-employed, male (% of male employment) (modeled ILO estimate)</th>\n",
       "      <th>Self-employed, total (% of total employment) (modeled ILO estimate)</th>\n",
       "      <th>Unemployment, female (% of female labor force) (modeled ILO estimate)</th>\n",
       "      <th>Unemployment, male (% of male labor force) (modeled ILO estimate)</th>\n",
       "      <th>Unemployment, total (% of total labor force) (modeled ILO estimate)</th>\n",
       "      <th>Vulnerable employment, female (% of female employment) (modeled ILO estimate)</th>\n",
       "      <th>Vulnerable employment, male (% of male employment) (modeled ILO estimate)</th>\n",
       "      <th>Vulnerable employment, total (% of total employment) (modeled ILO estimate)</th>\n",
       "    </tr>\n",
       "    <tr>\n",
       "      <th>Year</th>\n",
       "      <th></th>\n",
       "      <th></th>\n",
       "      <th></th>\n",
       "      <th></th>\n",
       "      <th></th>\n",
       "      <th></th>\n",
       "      <th></th>\n",
       "      <th></th>\n",
       "      <th></th>\n",
       "      <th></th>\n",
       "      <th></th>\n",
       "      <th></th>\n",
       "      <th></th>\n",
       "      <th></th>\n",
       "      <th></th>\n",
       "      <th></th>\n",
       "      <th></th>\n",
       "      <th></th>\n",
       "      <th></th>\n",
       "      <th></th>\n",
       "      <th></th>\n",
       "      <th></th>\n",
       "      <th></th>\n",
       "      <th></th>\n",
       "      <th></th>\n",
       "      <th></th>\n",
       "      <th></th>\n",
       "      <th></th>\n",
       "    </tr>\n",
       "  </thead>\n",
       "  <tbody>\n",
       "    <tr>\n",
       "      <th>1991-01-01</th>\n",
       "      <td>1.034938</td>\n",
       "      <td>2.071416</td>\n",
       "      <td>5.451175</td>\n",
       "      <td>3.964613</td>\n",
       "      <td>2.165177</td>\n",
       "      <td>1.166189</td>\n",
       "      <td>2.949595</td>\n",
       "      <td>30.425698</td>\n",
       "      <td>16.451258</td>\n",
       "      <td>41.398603</td>\n",
       "      <td>67.409125</td>\n",
       "      <td>82.382545</td>\n",
       "      <td>55.651802</td>\n",
       "      <td>43.440749</td>\n",
       "      <td>29083861.0</td>\n",
       "      <td>58.89</td>\n",
       "      <td>23.82</td>\n",
       "      <td>39.15</td>\n",
       "      <td>70.83542</td>\n",
       "      <td>8.692886</td>\n",
       "      <td>18.146675</td>\n",
       "      <td>13.988496</td>\n",
       "      <td>7.403</td>\n",
       "      <td>9.431</td>\n",
       "      <td>8.55</td>\n",
       "      <td>6.62147</td>\n",
       "      <td>12.6955</td>\n",
       "      <td>10.023879</td>\n",
       "    </tr>\n",
       "    <tr>\n",
       "      <th>1992-01-01</th>\n",
       "      <td>1.011012</td>\n",
       "      <td>1.821551</td>\n",
       "      <td>4.9977</td>\n",
       "      <td>3.571861</td>\n",
       "      <td>2.111121</td>\n",
       "      <td>1.132115</td>\n",
       "      <td>2.908641</td>\n",
       "      <td>29.930716</td>\n",
       "      <td>16.166012</td>\n",
       "      <td>41.143743</td>\n",
       "      <td>67.958159</td>\n",
       "      <td>82.701873</td>\n",
       "      <td>55.947623</td>\n",
       "      <td>43.754765</td>\n",
       "      <td>28980864.0</td>\n",
       "      <td>60.39</td>\n",
       "      <td>26.5</td>\n",
       "      <td>41.56</td>\n",
       "      <td>71.736961</td>\n",
       "      <td>7.990265</td>\n",
       "      <td>17.597703</td>\n",
       "      <td>13.284724</td>\n",
       "      <td>7.428</td>\n",
       "      <td>11.596</td>\n",
       "      <td>9.772</td>\n",
       "      <td>6.168706</td>\n",
       "      <td>12.600003</td>\n",
       "      <td>9.712864</td>\n",
       "    </tr>\n",
       "    <tr>\n",
       "      <th>1993-01-01</th>\n",
       "      <td>0.941825</td>\n",
       "      <td>1.832719</td>\n",
       "      <td>4.78889</td>\n",
       "      <td>3.445334</td>\n",
       "      <td>2.047451</td>\n",
       "      <td>1.081204</td>\n",
       "      <td>2.852484</td>\n",
       "      <td>29.392396</td>\n",
       "      <td>15.82816</td>\n",
       "      <td>40.693485</td>\n",
       "      <td>68.560149</td>\n",
       "      <td>83.09062</td>\n",
       "      <td>56.454031</td>\n",
       "      <td>44.172166</td>\n",
       "      <td>28773930.0</td>\n",
       "      <td>59.61</td>\n",
       "      <td>25.24</td>\n",
       "      <td>40.69</td>\n",
       "      <td>72.965467</td>\n",
       "      <td>7.967716</td>\n",
       "      <td>17.462428</td>\n",
       "      <td>13.147159</td>\n",
       "      <td>7.758</td>\n",
       "      <td>12.393</td>\n",
       "      <td>10.346</td>\n",
       "      <td>6.134997</td>\n",
       "      <td>12.673538</td>\n",
       "      <td>9.701825</td>\n",
       "    </tr>\n",
       "    <tr>\n",
       "      <th>1994-01-01</th>\n",
       "      <td>0.893465</td>\n",
       "      <td>1.786122</td>\n",
       "      <td>4.660436</td>\n",
       "      <td>3.355197</td>\n",
       "      <td>2.078798</td>\n",
       "      <td>1.156117</td>\n",
       "      <td>2.846337</td>\n",
       "      <td>27.780677</td>\n",
       "      <td>14.329842</td>\n",
       "      <td>38.969846</td>\n",
       "      <td>70.140528</td>\n",
       "      <td>84.514041</td>\n",
       "      <td>58.183831</td>\n",
       "      <td>44.307299</td>\n",
       "      <td>28764405.0</td>\n",
       "      <td>59.83</td>\n",
       "      <td>25.13</td>\n",
       "      <td>40.7</td>\n",
       "      <td>73.385803</td>\n",
       "      <td>8.009235</td>\n",
       "      <td>18.023474</td>\n",
       "      <td>13.475951</td>\n",
       "      <td>7.397</td>\n",
       "      <td>11.438</td>\n",
       "      <td>9.648</td>\n",
       "      <td>6.223113</td>\n",
       "      <td>13.363038</td>\n",
       "      <td>10.120754</td>\n",
       "    </tr>\n",
       "    <tr>\n",
       "      <th>1995-01-01</th>\n",
       "      <td>0.809746</td>\n",
       "      <td>1.702226</td>\n",
       "      <td>4.759194</td>\n",
       "      <td>3.375982</td>\n",
       "      <td>2.053645</td>\n",
       "      <td>1.231358</td>\n",
       "      <td>2.733193</td>\n",
       "      <td>27.425058</td>\n",
       "      <td>14.108477</td>\n",
       "      <td>38.430046</td>\n",
       "      <td>70.521309</td>\n",
       "      <td>84.660156</td>\n",
       "      <td>58.836775</td>\n",
       "      <td>44.389175</td>\n",
       "      <td>28774443.0</td>\n",
       "      <td>59.7</td>\n",
       "      <td>24.45</td>\n",
       "      <td>40.2</td>\n",
       "      <td>73.658612</td>\n",
       "      <td>7.883406</td>\n",
       "      <td>18.172128</td>\n",
       "      <td>13.516708</td>\n",
       "      <td>6.929</td>\n",
       "      <td>10.103</td>\n",
       "      <td>8.694</td>\n",
       "      <td>6.181181</td>\n",
       "      <td>13.412942</td>\n",
       "      <td>10.140726</td>\n",
       "    </tr>\n",
       "  </tbody>\n",
       "</table>\n",
       "</div>"
      ],
      "text/plain": [
       "Indicator Name Armed forces personnel (% of total labor force)  \\\n",
       "Year                                                             \n",
       "1991-01-01                                            1.034938   \n",
       "1992-01-01                                            1.011012   \n",
       "1993-01-01                                            0.941825   \n",
       "1994-01-01                                            0.893465   \n",
       "1995-01-01                                            0.809746   \n",
       "\n",
       "Indicator Name Employers, female (% of female employment) (modeled ILO estimate)  \\\n",
       "Year                                                                               \n",
       "1991-01-01                                               2.071416                  \n",
       "1992-01-01                                               1.821551                  \n",
       "1993-01-01                                               1.832719                  \n",
       "1994-01-01                                               1.786122                  \n",
       "1995-01-01                                               1.702226                  \n",
       "\n",
       "Indicator Name Employers, male (% of male employment) (modeled ILO estimate)  \\\n",
       "Year                                                                           \n",
       "1991-01-01                                               5.451175              \n",
       "1992-01-01                                                 4.9977              \n",
       "1993-01-01                                                4.78889              \n",
       "1994-01-01                                               4.660436              \n",
       "1995-01-01                                               4.759194              \n",
       "\n",
       "Indicator Name Employers, total (% of total employment) (modeled ILO estimate)  \\\n",
       "Year                                                                             \n",
       "1991-01-01                                               3.964613                \n",
       "1992-01-01                                               3.571861                \n",
       "1993-01-01                                               3.445334                \n",
       "1994-01-01                                               3.355197                \n",
       "1995-01-01                                               3.375982                \n",
       "\n",
       "Indicator Name Employment in agriculture (% of total employment) (modeled ILO estimate)  \\\n",
       "Year                                                                                      \n",
       "1991-01-01                                               2.165177                         \n",
       "1992-01-01                                               2.111121                         \n",
       "1993-01-01                                               2.047451                         \n",
       "1994-01-01                                               2.078798                         \n",
       "1995-01-01                                               2.053645                         \n",
       "\n",
       "Indicator Name Employment in agriculture, female (% of female employment) (modeled ILO estimate)  \\\n",
       "Year                                                                                               \n",
       "1991-01-01                                               1.166189                                  \n",
       "1992-01-01                                               1.132115                                  \n",
       "1993-01-01                                               1.081204                                  \n",
       "1994-01-01                                               1.156117                                  \n",
       "1995-01-01                                               1.231358                                  \n",
       "\n",
       "Indicator Name Employment in agriculture, male (% of male employment) (modeled ILO estimate)  \\\n",
       "Year                                                                                           \n",
       "1991-01-01                                               2.949595                              \n",
       "1992-01-01                                               2.908641                              \n",
       "1993-01-01                                               2.852484                              \n",
       "1994-01-01                                               2.846337                              \n",
       "1995-01-01                                               2.733193                              \n",
       "\n",
       "Indicator Name Employment in industry (% of total employment) (modeled ILO estimate)  \\\n",
       "Year                                                                                   \n",
       "1991-01-01                                              30.425698                      \n",
       "1992-01-01                                              29.930716                      \n",
       "1993-01-01                                              29.392396                      \n",
       "1994-01-01                                              27.780677                      \n",
       "1995-01-01                                              27.425058                      \n",
       "\n",
       "Indicator Name Employment in industry, female (% of female employment) (modeled ILO estimate)  \\\n",
       "Year                                                                                            \n",
       "1991-01-01                                              16.451258                               \n",
       "1992-01-01                                              16.166012                               \n",
       "1993-01-01                                               15.82816                               \n",
       "1994-01-01                                              14.329842                               \n",
       "1995-01-01                                              14.108477                               \n",
       "\n",
       "Indicator Name Employment in industry, male (% of male employment) (modeled ILO estimate)  \\\n",
       "Year                                                                                        \n",
       "1991-01-01                                              41.398603                           \n",
       "1992-01-01                                              41.143743                           \n",
       "1993-01-01                                              40.693485                           \n",
       "1994-01-01                                              38.969846                           \n",
       "1995-01-01                                              38.430046                           \n",
       "\n",
       "Indicator Name Employment in services (% of total employment) (modeled ILO estimate)  \\\n",
       "Year                                                                                   \n",
       "1991-01-01                                              67.409125                      \n",
       "1992-01-01                                              67.958159                      \n",
       "1993-01-01                                              68.560149                      \n",
       "1994-01-01                                              70.140528                      \n",
       "1995-01-01                                              70.521309                      \n",
       "\n",
       "Indicator Name Employment in services, female (% of female employment) (modeled ILO estimate)  \\\n",
       "Year                                                                                            \n",
       "1991-01-01                                              82.382545                               \n",
       "1992-01-01                                              82.701873                               \n",
       "1993-01-01                                               83.09062                               \n",
       "1994-01-01                                              84.514041                               \n",
       "1995-01-01                                              84.660156                               \n",
       "\n",
       "Indicator Name Employment in services, male (% of male employment) (modeled ILO estimate)  \\\n",
       "Year                                                                                        \n",
       "1991-01-01                                              55.651802                           \n",
       "1992-01-01                                              55.947623                           \n",
       "1993-01-01                                              56.454031                           \n",
       "1994-01-01                                              58.183831                           \n",
       "1995-01-01                                              58.836775                           \n",
       "\n",
       "Indicator Name Labor force, female (% of total labor force)  \\\n",
       "Year                                                          \n",
       "1991-01-01                                        43.440749   \n",
       "1992-01-01                                        43.754765   \n",
       "1993-01-01                                        44.172166   \n",
       "1994-01-01                                        44.307299   \n",
       "1995-01-01                                        44.389175   \n",
       "\n",
       "Indicator Name Labor force, total  \\\n",
       "Year                                \n",
       "1991-01-01             29083861.0   \n",
       "1992-01-01             28980864.0   \n",
       "1993-01-01             28773930.0   \n",
       "1994-01-01             28764405.0   \n",
       "1995-01-01             28774443.0   \n",
       "\n",
       "Indicator Name Part time employment, female (% of total female employment)  \\\n",
       "Year                                                                         \n",
       "1991-01-01                                                  58.89            \n",
       "1992-01-01                                                  60.39            \n",
       "1993-01-01                                                  59.61            \n",
       "1994-01-01                                                  59.83            \n",
       "1995-01-01                                                   59.7            \n",
       "\n",
       "Indicator Name Part time employment, male (% of total male employment)  \\\n",
       "Year                                                                     \n",
       "1991-01-01                                                  23.82        \n",
       "1992-01-01                                                   26.5        \n",
       "1993-01-01                                                  25.24        \n",
       "1994-01-01                                                  25.13        \n",
       "1995-01-01                                                  24.45        \n",
       "\n",
       "Indicator Name Part time employment, total (% of total employment)  \\\n",
       "Year                                                                 \n",
       "1991-01-01                                                  39.15    \n",
       "1992-01-01                                                  41.56    \n",
       "1993-01-01                                                  40.69    \n",
       "1994-01-01                                                   40.7    \n",
       "1995-01-01                                                   40.2    \n",
       "\n",
       "Indicator Name Ratio of female to male labor force participation rate (%) (modeled ILO estimate)  \\\n",
       "Year                                                                                               \n",
       "1991-01-01                                               70.83542                                  \n",
       "1992-01-01                                              71.736961                                  \n",
       "1993-01-01                                              72.965467                                  \n",
       "1994-01-01                                              73.385803                                  \n",
       "1995-01-01                                              73.658612                                  \n",
       "\n",
       "Indicator Name Self-employed, female (% of female employment) (modeled ILO estimate)  \\\n",
       "Year                                                                                   \n",
       "1991-01-01                                               8.692886                      \n",
       "1992-01-01                                               7.990265                      \n",
       "1993-01-01                                               7.967716                      \n",
       "1994-01-01                                               8.009235                      \n",
       "1995-01-01                                               7.883406                      \n",
       "\n",
       "Indicator Name Self-employed, male (% of male employment) (modeled ILO estimate)  \\\n",
       "Year                                                                               \n",
       "1991-01-01                                              18.146675                  \n",
       "1992-01-01                                              17.597703                  \n",
       "1993-01-01                                              17.462428                  \n",
       "1994-01-01                                              18.023474                  \n",
       "1995-01-01                                              18.172128                  \n",
       "\n",
       "Indicator Name Self-employed, total (% of total employment) (modeled ILO estimate)  \\\n",
       "Year                                                                                 \n",
       "1991-01-01                                              13.988496                    \n",
       "1992-01-01                                              13.284724                    \n",
       "1993-01-01                                              13.147159                    \n",
       "1994-01-01                                              13.475951                    \n",
       "1995-01-01                                              13.516708                    \n",
       "\n",
       "Indicator Name Unemployment, female (% of female labor force) (modeled ILO estimate)  \\\n",
       "Year                                                                                   \n",
       "1991-01-01                                                  7.403                      \n",
       "1992-01-01                                                  7.428                      \n",
       "1993-01-01                                                  7.758                      \n",
       "1994-01-01                                                  7.397                      \n",
       "1995-01-01                                                  6.929                      \n",
       "\n",
       "Indicator Name Unemployment, male (% of male labor force) (modeled ILO estimate)  \\\n",
       "Year                                                                               \n",
       "1991-01-01                                                  9.431                  \n",
       "1992-01-01                                                 11.596                  \n",
       "1993-01-01                                                 12.393                  \n",
       "1994-01-01                                                 11.438                  \n",
       "1995-01-01                                                 10.103                  \n",
       "\n",
       "Indicator Name Unemployment, total (% of total labor force) (modeled ILO estimate)  \\\n",
       "Year                                                                                 \n",
       "1991-01-01                                                   8.55                    \n",
       "1992-01-01                                                  9.772                    \n",
       "1993-01-01                                                 10.346                    \n",
       "1994-01-01                                                  9.648                    \n",
       "1995-01-01                                                  8.694                    \n",
       "\n",
       "Indicator Name Vulnerable employment, female (% of female employment) (modeled ILO estimate)  \\\n",
       "Year                                                                                           \n",
       "1991-01-01                                                6.62147                              \n",
       "1992-01-01                                               6.168706                              \n",
       "1993-01-01                                               6.134997                              \n",
       "1994-01-01                                               6.223113                              \n",
       "1995-01-01                                               6.181181                              \n",
       "\n",
       "Indicator Name Vulnerable employment, male (% of male employment) (modeled ILO estimate)  \\\n",
       "Year                                                                                       \n",
       "1991-01-01                                                12.6955                          \n",
       "1992-01-01                                              12.600003                          \n",
       "1993-01-01                                              12.673538                          \n",
       "1994-01-01                                              13.363038                          \n",
       "1995-01-01                                              13.412942                          \n",
       "\n",
       "Indicator Name Vulnerable employment, total (% of total employment) (modeled ILO estimate)  \n",
       "Year                                                                                        \n",
       "1991-01-01                                              10.023879                           \n",
       "1992-01-01                                               9.712864                           \n",
       "1993-01-01                                               9.701825                           \n",
       "1994-01-01                                              10.120754                           \n",
       "1995-01-01                                              10.140726                           "
      ]
     },
     "execution_count": 34,
     "metadata": {},
     "output_type": "execute_result"
    }
   ],
   "source": [
    "dfy.head()"
   ]
  },
  {
   "cell_type": "code",
   "execution_count": 66,
   "metadata": {},
   "outputs": [],
   "source": [
    "dfy.to_excel('./clean/clean_uk_emp_v2.xlsx')"
   ]
  },
  {
   "cell_type": "markdown",
   "metadata": {},
   "source": [
    "# 1. Employment by Sector Over Time"
   ]
  },
  {
   "cell_type": "code",
   "execution_count": 42,
   "metadata": {},
   "outputs": [],
   "source": [
    "sector_data = dfy[['Employment in agriculture (% of total employment) (modeled ILO estimate)',\n",
    "                  'Employment in industry (% of total employment) (modeled ILO estimate)',\n",
    "                  'Employment in services (% of total employment) (modeled ILO estimate)']]\n",
    "sector_data.columns = ['Agriculture', 'Industry', 'Services']\n"
   ]
  },
  {
   "cell_type": "code",
   "execution_count": 43,
   "metadata": {},
   "outputs": [
    {
     "data": {
      "application/vnd.plotly.v1+json": {
       "config": {
        "plotlyServerURL": "https://plot.ly"
       },
       "data": [
        {
         "hovertemplate": "variable=Agriculture<br>Year=%{x}<br>value=%{y}<extra></extra>",
         "legendgroup": "Agriculture",
         "line": {
          "color": "#636efa",
          "dash": "solid"
         },
         "marker": {
          "symbol": "circle"
         },
         "mode": "lines",
         "name": "Agriculture",
         "orientation": "v",
         "showlegend": true,
         "type": "scatter",
         "x": [
          "1991-01-01T00:00:00",
          "1992-01-01T00:00:00",
          "1993-01-01T00:00:00",
          "1994-01-01T00:00:00",
          "1995-01-01T00:00:00",
          "1996-01-01T00:00:00",
          "1997-01-01T00:00:00",
          "1998-01-01T00:00:00",
          "1999-01-01T00:00:00",
          "2000-01-01T00:00:00",
          "2001-01-01T00:00:00",
          "2002-01-01T00:00:00",
          "2003-01-01T00:00:00",
          "2004-01-01T00:00:00",
          "2005-01-01T00:00:00",
          "2006-01-01T00:00:00",
          "2007-01-01T00:00:00",
          "2008-01-01T00:00:00",
          "2009-01-01T00:00:00",
          "2010-01-01T00:00:00",
          "2011-01-01T00:00:00",
          "2012-01-01T00:00:00",
          "2013-01-01T00:00:00",
          "2014-01-01T00:00:00",
          "2015-01-01T00:00:00",
          "2016-01-01T00:00:00",
          "2017-01-01T00:00:00",
          "2018-01-01T00:00:00",
          "2019-01-01T00:00:00",
          "2020-01-01T00:00:00",
          "2021-01-01T00:00:00",
          "2022-01-01T00:00:00",
          "2023-01-01T00:00:00"
         ],
         "xaxis": "x",
         "y": [
          2.1651770111817,
          2.11112122367871,
          2.04745134796647,
          2.0787984948048,
          2.05364531773716,
          1.94852666330066,
          1.85422907917066,
          1.71811620466999,
          1.5539871579727,
          1.53454926993428,
          1.39233330341523,
          1.38581329078456,
          1.24891678772558,
          1.27650085784621,
          1.37603253648279,
          1.35146946330568,
          1.36521688015405,
          1.08043318982593,
          1.10915027730949,
          1.21592447666869,
          1.22028096535992,
          1.18886079230386,
          1.05884260885312,
          1.25624311534754,
          1.13619321080336,
          1.12106646107832,
          1.16307610800233,
          1.07006696063793,
          1.04432525172921,
          1.0340351380375,
          1.03258066764766,
          1.00494891890614,
          null
         ],
         "yaxis": "y"
        },
        {
         "hovertemplate": "variable=Industry<br>Year=%{x}<br>value=%{y}<extra></extra>",
         "legendgroup": "Industry",
         "line": {
          "color": "#EF553B",
          "dash": "solid"
         },
         "marker": {
          "symbol": "circle"
         },
         "mode": "lines",
         "name": "Industry",
         "orientation": "v",
         "showlegend": true,
         "type": "scatter",
         "x": [
          "1991-01-01T00:00:00",
          "1992-01-01T00:00:00",
          "1993-01-01T00:00:00",
          "1994-01-01T00:00:00",
          "1995-01-01T00:00:00",
          "1996-01-01T00:00:00",
          "1997-01-01T00:00:00",
          "1998-01-01T00:00:00",
          "1999-01-01T00:00:00",
          "2000-01-01T00:00:00",
          "2001-01-01T00:00:00",
          "2002-01-01T00:00:00",
          "2003-01-01T00:00:00",
          "2004-01-01T00:00:00",
          "2005-01-01T00:00:00",
          "2006-01-01T00:00:00",
          "2007-01-01T00:00:00",
          "2008-01-01T00:00:00",
          "2009-01-01T00:00:00",
          "2010-01-01T00:00:00",
          "2011-01-01T00:00:00",
          "2012-01-01T00:00:00",
          "2013-01-01T00:00:00",
          "2014-01-01T00:00:00",
          "2015-01-01T00:00:00",
          "2016-01-01T00:00:00",
          "2017-01-01T00:00:00",
          "2018-01-01T00:00:00",
          "2019-01-01T00:00:00",
          "2020-01-01T00:00:00",
          "2021-01-01T00:00:00",
          "2022-01-01T00:00:00",
          "2023-01-01T00:00:00"
         ],
         "xaxis": "x",
         "y": [
          30.4256980712188,
          29.9307155533285,
          29.3923959336953,
          27.7806770604151,
          27.4250575307647,
          27.4248877891157,
          26.8627095756582,
          26.666090288747,
          25.8109069730047,
          25.1680765638419,
          24.6406484898304,
          23.9123278773593,
          23.3421084028371,
          22.3021363572404,
          22.2144068656745,
          22.0628820435292,
          22.1886501127621,
          22.0043010695534,
          19.6113535593574,
          19.2102555434201,
          19.1777633347434,
          19.0668947234349,
          18.8682391968841,
          18.9652710754023,
          18.6625913246499,
          18.4747314621342,
          18.2597344729615,
          18.1250070589985,
          18.1237417210674,
          18.1753730778061,
          18.1985993471877,
          18.0561063330652,
          null
         ],
         "yaxis": "y"
        },
        {
         "hovertemplate": "variable=Services<br>Year=%{x}<br>value=%{y}<extra></extra>",
         "legendgroup": "Services",
         "line": {
          "color": "#00cc96",
          "dash": "solid"
         },
         "marker": {
          "symbol": "circle"
         },
         "mode": "lines",
         "name": "Services",
         "orientation": "v",
         "showlegend": true,
         "type": "scatter",
         "x": [
          "1991-01-01T00:00:00",
          "1992-01-01T00:00:00",
          "1993-01-01T00:00:00",
          "1994-01-01T00:00:00",
          "1995-01-01T00:00:00",
          "1996-01-01T00:00:00",
          "1997-01-01T00:00:00",
          "1998-01-01T00:00:00",
          "1999-01-01T00:00:00",
          "2000-01-01T00:00:00",
          "2001-01-01T00:00:00",
          "2002-01-01T00:00:00",
          "2003-01-01T00:00:00",
          "2004-01-01T00:00:00",
          "2005-01-01T00:00:00",
          "2006-01-01T00:00:00",
          "2007-01-01T00:00:00",
          "2008-01-01T00:00:00",
          "2009-01-01T00:00:00",
          "2010-01-01T00:00:00",
          "2011-01-01T00:00:00",
          "2012-01-01T00:00:00",
          "2013-01-01T00:00:00",
          "2014-01-01T00:00:00",
          "2015-01-01T00:00:00",
          "2016-01-01T00:00:00",
          "2017-01-01T00:00:00",
          "2018-01-01T00:00:00",
          "2019-01-01T00:00:00",
          "2020-01-01T00:00:00",
          "2021-01-01T00:00:00",
          "2022-01-01T00:00:00",
          "2023-01-01T00:00:00"
         ],
         "xaxis": "x",
         "y": [
          67.4091249175995,
          67.9581593940863,
          68.560148836958,
          70.1405282979319,
          70.5213085871313,
          70.6265855475836,
          71.283053938624,
          71.6157825256319,
          72.6351058690226,
          73.2973741662238,
          73.9670182067544,
          74.7018623618981,
          75.4089748094374,
          76.421369692722,
          76.4095640060319,
          76.5856518690959,
          76.4461330070838,
          76.9152757067971,
          79.2794961633331,
          79.5738199799112,
          79.6019590466348,
          79.7442345658747,
          80.0729181942627,
          79.7784953701609,
          80.2012123283173,
          80.4042020767875,
          80.5771894190362,
          80.8049168963976,
          80.8319300304539,
          80.7906038783468,
          80.7688199851646,
          80.9389417503734,
          null
         ],
         "yaxis": "y"
        }
       ],
       "layout": {
        "legend": {
         "title": {
          "text": "variable"
         },
         "tracegroupgap": 0
        },
        "template": {
         "data": {
          "bar": [
           {
            "error_x": {
             "color": "#2a3f5f"
            },
            "error_y": {
             "color": "#2a3f5f"
            },
            "marker": {
             "line": {
              "color": "#E5ECF6",
              "width": 0.5
             },
             "pattern": {
              "fillmode": "overlay",
              "size": 10,
              "solidity": 0.2
             }
            },
            "type": "bar"
           }
          ],
          "barpolar": [
           {
            "marker": {
             "line": {
              "color": "#E5ECF6",
              "width": 0.5
             },
             "pattern": {
              "fillmode": "overlay",
              "size": 10,
              "solidity": 0.2
             }
            },
            "type": "barpolar"
           }
          ],
          "carpet": [
           {
            "aaxis": {
             "endlinecolor": "#2a3f5f",
             "gridcolor": "white",
             "linecolor": "white",
             "minorgridcolor": "white",
             "startlinecolor": "#2a3f5f"
            },
            "baxis": {
             "endlinecolor": "#2a3f5f",
             "gridcolor": "white",
             "linecolor": "white",
             "minorgridcolor": "white",
             "startlinecolor": "#2a3f5f"
            },
            "type": "carpet"
           }
          ],
          "choropleth": [
           {
            "colorbar": {
             "outlinewidth": 0,
             "ticks": ""
            },
            "type": "choropleth"
           }
          ],
          "contour": [
           {
            "colorbar": {
             "outlinewidth": 0,
             "ticks": ""
            },
            "colorscale": [
             [
              0,
              "#0d0887"
             ],
             [
              0.1111111111111111,
              "#46039f"
             ],
             [
              0.2222222222222222,
              "#7201a8"
             ],
             [
              0.3333333333333333,
              "#9c179e"
             ],
             [
              0.4444444444444444,
              "#bd3786"
             ],
             [
              0.5555555555555556,
              "#d8576b"
             ],
             [
              0.6666666666666666,
              "#ed7953"
             ],
             [
              0.7777777777777778,
              "#fb9f3a"
             ],
             [
              0.8888888888888888,
              "#fdca26"
             ],
             [
              1,
              "#f0f921"
             ]
            ],
            "type": "contour"
           }
          ],
          "contourcarpet": [
           {
            "colorbar": {
             "outlinewidth": 0,
             "ticks": ""
            },
            "type": "contourcarpet"
           }
          ],
          "heatmap": [
           {
            "colorbar": {
             "outlinewidth": 0,
             "ticks": ""
            },
            "colorscale": [
             [
              0,
              "#0d0887"
             ],
             [
              0.1111111111111111,
              "#46039f"
             ],
             [
              0.2222222222222222,
              "#7201a8"
             ],
             [
              0.3333333333333333,
              "#9c179e"
             ],
             [
              0.4444444444444444,
              "#bd3786"
             ],
             [
              0.5555555555555556,
              "#d8576b"
             ],
             [
              0.6666666666666666,
              "#ed7953"
             ],
             [
              0.7777777777777778,
              "#fb9f3a"
             ],
             [
              0.8888888888888888,
              "#fdca26"
             ],
             [
              1,
              "#f0f921"
             ]
            ],
            "type": "heatmap"
           }
          ],
          "heatmapgl": [
           {
            "colorbar": {
             "outlinewidth": 0,
             "ticks": ""
            },
            "colorscale": [
             [
              0,
              "#0d0887"
             ],
             [
              0.1111111111111111,
              "#46039f"
             ],
             [
              0.2222222222222222,
              "#7201a8"
             ],
             [
              0.3333333333333333,
              "#9c179e"
             ],
             [
              0.4444444444444444,
              "#bd3786"
             ],
             [
              0.5555555555555556,
              "#d8576b"
             ],
             [
              0.6666666666666666,
              "#ed7953"
             ],
             [
              0.7777777777777778,
              "#fb9f3a"
             ],
             [
              0.8888888888888888,
              "#fdca26"
             ],
             [
              1,
              "#f0f921"
             ]
            ],
            "type": "heatmapgl"
           }
          ],
          "histogram": [
           {
            "marker": {
             "pattern": {
              "fillmode": "overlay",
              "size": 10,
              "solidity": 0.2
             }
            },
            "type": "histogram"
           }
          ],
          "histogram2d": [
           {
            "colorbar": {
             "outlinewidth": 0,
             "ticks": ""
            },
            "colorscale": [
             [
              0,
              "#0d0887"
             ],
             [
              0.1111111111111111,
              "#46039f"
             ],
             [
              0.2222222222222222,
              "#7201a8"
             ],
             [
              0.3333333333333333,
              "#9c179e"
             ],
             [
              0.4444444444444444,
              "#bd3786"
             ],
             [
              0.5555555555555556,
              "#d8576b"
             ],
             [
              0.6666666666666666,
              "#ed7953"
             ],
             [
              0.7777777777777778,
              "#fb9f3a"
             ],
             [
              0.8888888888888888,
              "#fdca26"
             ],
             [
              1,
              "#f0f921"
             ]
            ],
            "type": "histogram2d"
           }
          ],
          "histogram2dcontour": [
           {
            "colorbar": {
             "outlinewidth": 0,
             "ticks": ""
            },
            "colorscale": [
             [
              0,
              "#0d0887"
             ],
             [
              0.1111111111111111,
              "#46039f"
             ],
             [
              0.2222222222222222,
              "#7201a8"
             ],
             [
              0.3333333333333333,
              "#9c179e"
             ],
             [
              0.4444444444444444,
              "#bd3786"
             ],
             [
              0.5555555555555556,
              "#d8576b"
             ],
             [
              0.6666666666666666,
              "#ed7953"
             ],
             [
              0.7777777777777778,
              "#fb9f3a"
             ],
             [
              0.8888888888888888,
              "#fdca26"
             ],
             [
              1,
              "#f0f921"
             ]
            ],
            "type": "histogram2dcontour"
           }
          ],
          "mesh3d": [
           {
            "colorbar": {
             "outlinewidth": 0,
             "ticks": ""
            },
            "type": "mesh3d"
           }
          ],
          "parcoords": [
           {
            "line": {
             "colorbar": {
              "outlinewidth": 0,
              "ticks": ""
             }
            },
            "type": "parcoords"
           }
          ],
          "pie": [
           {
            "automargin": true,
            "type": "pie"
           }
          ],
          "scatter": [
           {
            "fillpattern": {
             "fillmode": "overlay",
             "size": 10,
             "solidity": 0.2
            },
            "type": "scatter"
           }
          ],
          "scatter3d": [
           {
            "line": {
             "colorbar": {
              "outlinewidth": 0,
              "ticks": ""
             }
            },
            "marker": {
             "colorbar": {
              "outlinewidth": 0,
              "ticks": ""
             }
            },
            "type": "scatter3d"
           }
          ],
          "scattercarpet": [
           {
            "marker": {
             "colorbar": {
              "outlinewidth": 0,
              "ticks": ""
             }
            },
            "type": "scattercarpet"
           }
          ],
          "scattergeo": [
           {
            "marker": {
             "colorbar": {
              "outlinewidth": 0,
              "ticks": ""
             }
            },
            "type": "scattergeo"
           }
          ],
          "scattergl": [
           {
            "marker": {
             "colorbar": {
              "outlinewidth": 0,
              "ticks": ""
             }
            },
            "type": "scattergl"
           }
          ],
          "scattermapbox": [
           {
            "marker": {
             "colorbar": {
              "outlinewidth": 0,
              "ticks": ""
             }
            },
            "type": "scattermapbox"
           }
          ],
          "scatterpolar": [
           {
            "marker": {
             "colorbar": {
              "outlinewidth": 0,
              "ticks": ""
             }
            },
            "type": "scatterpolar"
           }
          ],
          "scatterpolargl": [
           {
            "marker": {
             "colorbar": {
              "outlinewidth": 0,
              "ticks": ""
             }
            },
            "type": "scatterpolargl"
           }
          ],
          "scatterternary": [
           {
            "marker": {
             "colorbar": {
              "outlinewidth": 0,
              "ticks": ""
             }
            },
            "type": "scatterternary"
           }
          ],
          "surface": [
           {
            "colorbar": {
             "outlinewidth": 0,
             "ticks": ""
            },
            "colorscale": [
             [
              0,
              "#0d0887"
             ],
             [
              0.1111111111111111,
              "#46039f"
             ],
             [
              0.2222222222222222,
              "#7201a8"
             ],
             [
              0.3333333333333333,
              "#9c179e"
             ],
             [
              0.4444444444444444,
              "#bd3786"
             ],
             [
              0.5555555555555556,
              "#d8576b"
             ],
             [
              0.6666666666666666,
              "#ed7953"
             ],
             [
              0.7777777777777778,
              "#fb9f3a"
             ],
             [
              0.8888888888888888,
              "#fdca26"
             ],
             [
              1,
              "#f0f921"
             ]
            ],
            "type": "surface"
           }
          ],
          "table": [
           {
            "cells": {
             "fill": {
              "color": "#EBF0F8"
             },
             "line": {
              "color": "white"
             }
            },
            "header": {
             "fill": {
              "color": "#C8D4E3"
             },
             "line": {
              "color": "white"
             }
            },
            "type": "table"
           }
          ]
         },
         "layout": {
          "annotationdefaults": {
           "arrowcolor": "#2a3f5f",
           "arrowhead": 0,
           "arrowwidth": 1
          },
          "autotypenumbers": "strict",
          "coloraxis": {
           "colorbar": {
            "outlinewidth": 0,
            "ticks": ""
           }
          },
          "colorscale": {
           "diverging": [
            [
             0,
             "#8e0152"
            ],
            [
             0.1,
             "#c51b7d"
            ],
            [
             0.2,
             "#de77ae"
            ],
            [
             0.3,
             "#f1b6da"
            ],
            [
             0.4,
             "#fde0ef"
            ],
            [
             0.5,
             "#f7f7f7"
            ],
            [
             0.6,
             "#e6f5d0"
            ],
            [
             0.7,
             "#b8e186"
            ],
            [
             0.8,
             "#7fbc41"
            ],
            [
             0.9,
             "#4d9221"
            ],
            [
             1,
             "#276419"
            ]
           ],
           "sequential": [
            [
             0,
             "#0d0887"
            ],
            [
             0.1111111111111111,
             "#46039f"
            ],
            [
             0.2222222222222222,
             "#7201a8"
            ],
            [
             0.3333333333333333,
             "#9c179e"
            ],
            [
             0.4444444444444444,
             "#bd3786"
            ],
            [
             0.5555555555555556,
             "#d8576b"
            ],
            [
             0.6666666666666666,
             "#ed7953"
            ],
            [
             0.7777777777777778,
             "#fb9f3a"
            ],
            [
             0.8888888888888888,
             "#fdca26"
            ],
            [
             1,
             "#f0f921"
            ]
           ],
           "sequentialminus": [
            [
             0,
             "#0d0887"
            ],
            [
             0.1111111111111111,
             "#46039f"
            ],
            [
             0.2222222222222222,
             "#7201a8"
            ],
            [
             0.3333333333333333,
             "#9c179e"
            ],
            [
             0.4444444444444444,
             "#bd3786"
            ],
            [
             0.5555555555555556,
             "#d8576b"
            ],
            [
             0.6666666666666666,
             "#ed7953"
            ],
            [
             0.7777777777777778,
             "#fb9f3a"
            ],
            [
             0.8888888888888888,
             "#fdca26"
            ],
            [
             1,
             "#f0f921"
            ]
           ]
          },
          "colorway": [
           "#636efa",
           "#EF553B",
           "#00cc96",
           "#ab63fa",
           "#FFA15A",
           "#19d3f3",
           "#FF6692",
           "#B6E880",
           "#FF97FF",
           "#FECB52"
          ],
          "font": {
           "color": "#2a3f5f"
          },
          "geo": {
           "bgcolor": "white",
           "lakecolor": "white",
           "landcolor": "#E5ECF6",
           "showlakes": true,
           "showland": true,
           "subunitcolor": "white"
          },
          "hoverlabel": {
           "align": "left"
          },
          "hovermode": "closest",
          "mapbox": {
           "style": "light"
          },
          "paper_bgcolor": "white",
          "plot_bgcolor": "#E5ECF6",
          "polar": {
           "angularaxis": {
            "gridcolor": "white",
            "linecolor": "white",
            "ticks": ""
           },
           "bgcolor": "#E5ECF6",
           "radialaxis": {
            "gridcolor": "white",
            "linecolor": "white",
            "ticks": ""
           }
          },
          "scene": {
           "xaxis": {
            "backgroundcolor": "#E5ECF6",
            "gridcolor": "white",
            "gridwidth": 2,
            "linecolor": "white",
            "showbackground": true,
            "ticks": "",
            "zerolinecolor": "white"
           },
           "yaxis": {
            "backgroundcolor": "#E5ECF6",
            "gridcolor": "white",
            "gridwidth": 2,
            "linecolor": "white",
            "showbackground": true,
            "ticks": "",
            "zerolinecolor": "white"
           },
           "zaxis": {
            "backgroundcolor": "#E5ECF6",
            "gridcolor": "white",
            "gridwidth": 2,
            "linecolor": "white",
            "showbackground": true,
            "ticks": "",
            "zerolinecolor": "white"
           }
          },
          "shapedefaults": {
           "line": {
            "color": "#2a3f5f"
           }
          },
          "ternary": {
           "aaxis": {
            "gridcolor": "white",
            "linecolor": "white",
            "ticks": ""
           },
           "baxis": {
            "gridcolor": "white",
            "linecolor": "white",
            "ticks": ""
           },
           "bgcolor": "#E5ECF6",
           "caxis": {
            "gridcolor": "white",
            "linecolor": "white",
            "ticks": ""
           }
          },
          "title": {
           "x": 0.05
          },
          "xaxis": {
           "automargin": true,
           "gridcolor": "white",
           "linecolor": "white",
           "ticks": "",
           "title": {
            "standoff": 15
           },
           "zerolinecolor": "white",
           "zerolinewidth": 2
          },
          "yaxis": {
           "automargin": true,
           "gridcolor": "white",
           "linecolor": "white",
           "ticks": "",
           "title": {
            "standoff": 15
           },
           "zerolinecolor": "white",
           "zerolinewidth": 2
          }
         }
        },
        "title": {
         "text": "Employment by Sector Over Time"
        },
        "xaxis": {
         "anchor": "y",
         "domain": [
          0,
          1
         ],
         "title": {
          "text": "Year"
         }
        },
        "yaxis": {
         "anchor": "x",
         "domain": [
          0,
          1
         ],
         "title": {
          "text": "Percentage of Total Employment"
         }
        }
       }
      }
     },
     "metadata": {},
     "output_type": "display_data"
    }
   ],
   "source": [
    "fig1 = px.line(sector_data, x=sector_data.index, y=sector_data.columns,\n",
    "               title='Employment by Sector Over Time')\n",
    "fig1.update_layout(yaxis_title='Percentage of Total Employment', xaxis_title='Year')\n"
   ]
  },
  {
   "cell_type": "code",
   "execution_count": 63,
   "metadata": {},
   "outputs": [],
   "source": [
    "# Verified"
   ]
  },
  {
   "cell_type": "markdown",
   "metadata": {},
   "source": [
    "# 2. Gender Unemployment Gap\n"
   ]
  },
  {
   "cell_type": "code",
   "execution_count": 45,
   "metadata": {},
   "outputs": [],
   "source": [
    "unemployment_data = dfy[['Unemployment, male (% of male labor force) (modeled ILO estimate)',\n",
    "                        'Unemployment, female (% of female labor force) (modeled ILO estimate)']]\n",
    "unemployment_data.columns = ['Male', 'Female'] "
   ]
  },
  {
   "cell_type": "code",
   "execution_count": 46,
   "metadata": {},
   "outputs": [
    {
     "data": {
      "application/vnd.plotly.v1+json": {
       "config": {
        "plotlyServerURL": "https://plot.ly"
       },
       "data": [
        {
         "hovertemplate": "variable=Male<br>Year=%{x}<br>value=%{y}<extra></extra>",
         "legendgroup": "Male",
         "line": {
          "color": "#636efa",
          "dash": "solid"
         },
         "marker": {
          "symbol": "circle"
         },
         "mode": "lines",
         "name": "Male",
         "orientation": "v",
         "showlegend": true,
         "type": "scatter",
         "x": [
          "1991-01-01T00:00:00",
          "1992-01-01T00:00:00",
          "1993-01-01T00:00:00",
          "1994-01-01T00:00:00",
          "1995-01-01T00:00:00",
          "1996-01-01T00:00:00",
          "1997-01-01T00:00:00",
          "1998-01-01T00:00:00",
          "1999-01-01T00:00:00",
          "2000-01-01T00:00:00",
          "2001-01-01T00:00:00",
          "2002-01-01T00:00:00",
          "2003-01-01T00:00:00",
          "2004-01-01T00:00:00",
          "2005-01-01T00:00:00",
          "2006-01-01T00:00:00",
          "2007-01-01T00:00:00",
          "2008-01-01T00:00:00",
          "2009-01-01T00:00:00",
          "2010-01-01T00:00:00",
          "2011-01-01T00:00:00",
          "2012-01-01T00:00:00",
          "2013-01-01T00:00:00",
          "2014-01-01T00:00:00",
          "2015-01-01T00:00:00",
          "2016-01-01T00:00:00",
          "2017-01-01T00:00:00",
          "2018-01-01T00:00:00",
          "2019-01-01T00:00:00",
          "2020-01-01T00:00:00",
          "2021-01-01T00:00:00",
          "2022-01-01T00:00:00",
          "2023-01-01T00:00:00"
         ],
         "xaxis": "x",
         "y": [
          9.431,
          11.596,
          12.393,
          11.438,
          10.103,
          9.689,
          8.101,
          6.887,
          6.781,
          6.138,
          5.183,
          5.607,
          5.429,
          4.936,
          5.14,
          5.694,
          5.518,
          6.064,
          8.494,
          8.57,
          8.639,
          8.316,
          7.948,
          6.363,
          5.455,
          4.924,
          4.432,
          4.045,
          3.918,
          4.759,
          5.039,
          3.871,
          4.262
         ],
         "yaxis": "y"
        },
        {
         "hovertemplate": "variable=Female<br>Year=%{x}<br>value=%{y}<extra></extra>",
         "legendgroup": "Female",
         "line": {
          "color": "#EF553B",
          "dash": "solid"
         },
         "marker": {
          "symbol": "circle"
         },
         "mode": "lines",
         "name": "Female",
         "orientation": "v",
         "showlegend": true,
         "type": "scatter",
         "x": [
          "1991-01-01T00:00:00",
          "1992-01-01T00:00:00",
          "1993-01-01T00:00:00",
          "1994-01-01T00:00:00",
          "1995-01-01T00:00:00",
          "1996-01-01T00:00:00",
          "1997-01-01T00:00:00",
          "1998-01-01T00:00:00",
          "1999-01-01T00:00:00",
          "2000-01-01T00:00:00",
          "2001-01-01T00:00:00",
          "2002-01-01T00:00:00",
          "2003-01-01T00:00:00",
          "2004-01-01T00:00:00",
          "2005-01-01T00:00:00",
          "2006-01-01T00:00:00",
          "2007-01-01T00:00:00",
          "2008-01-01T00:00:00",
          "2009-01-01T00:00:00",
          "2010-01-01T00:00:00",
          "2011-01-01T00:00:00",
          "2012-01-01T00:00:00",
          "2013-01-01T00:00:00",
          "2014-01-01T00:00:00",
          "2015-01-01T00:00:00",
          "2016-01-01T00:00:00",
          "2017-01-01T00:00:00",
          "2018-01-01T00:00:00",
          "2019-01-01T00:00:00",
          "2020-01-01T00:00:00",
          "2021-01-01T00:00:00",
          "2022-01-01T00:00:00",
          "2023-01-01T00:00:00"
         ],
         "xaxis": "x",
         "y": [
          7.403,
          7.428,
          7.758,
          7.397,
          6.929,
          6.331,
          5.808,
          5.354,
          5.149,
          4.861,
          4.114,
          4.363,
          4.065,
          4.19,
          4.293,
          4.946,
          4.961,
          5.086,
          6.42,
          6.875,
          7.34,
          7.386,
          7.038,
          5.82,
          5.125,
          4.68,
          4.215,
          3.94,
          3.535,
          4.155,
          4.594,
          3.576,
          3.828
         ],
         "yaxis": "y"
        }
       ],
       "layout": {
        "legend": {
         "title": {
          "text": "variable"
         },
         "tracegroupgap": 0
        },
        "template": {
         "data": {
          "bar": [
           {
            "error_x": {
             "color": "#2a3f5f"
            },
            "error_y": {
             "color": "#2a3f5f"
            },
            "marker": {
             "line": {
              "color": "#E5ECF6",
              "width": 0.5
             },
             "pattern": {
              "fillmode": "overlay",
              "size": 10,
              "solidity": 0.2
             }
            },
            "type": "bar"
           }
          ],
          "barpolar": [
           {
            "marker": {
             "line": {
              "color": "#E5ECF6",
              "width": 0.5
             },
             "pattern": {
              "fillmode": "overlay",
              "size": 10,
              "solidity": 0.2
             }
            },
            "type": "barpolar"
           }
          ],
          "carpet": [
           {
            "aaxis": {
             "endlinecolor": "#2a3f5f",
             "gridcolor": "white",
             "linecolor": "white",
             "minorgridcolor": "white",
             "startlinecolor": "#2a3f5f"
            },
            "baxis": {
             "endlinecolor": "#2a3f5f",
             "gridcolor": "white",
             "linecolor": "white",
             "minorgridcolor": "white",
             "startlinecolor": "#2a3f5f"
            },
            "type": "carpet"
           }
          ],
          "choropleth": [
           {
            "colorbar": {
             "outlinewidth": 0,
             "ticks": ""
            },
            "type": "choropleth"
           }
          ],
          "contour": [
           {
            "colorbar": {
             "outlinewidth": 0,
             "ticks": ""
            },
            "colorscale": [
             [
              0,
              "#0d0887"
             ],
             [
              0.1111111111111111,
              "#46039f"
             ],
             [
              0.2222222222222222,
              "#7201a8"
             ],
             [
              0.3333333333333333,
              "#9c179e"
             ],
             [
              0.4444444444444444,
              "#bd3786"
             ],
             [
              0.5555555555555556,
              "#d8576b"
             ],
             [
              0.6666666666666666,
              "#ed7953"
             ],
             [
              0.7777777777777778,
              "#fb9f3a"
             ],
             [
              0.8888888888888888,
              "#fdca26"
             ],
             [
              1,
              "#f0f921"
             ]
            ],
            "type": "contour"
           }
          ],
          "contourcarpet": [
           {
            "colorbar": {
             "outlinewidth": 0,
             "ticks": ""
            },
            "type": "contourcarpet"
           }
          ],
          "heatmap": [
           {
            "colorbar": {
             "outlinewidth": 0,
             "ticks": ""
            },
            "colorscale": [
             [
              0,
              "#0d0887"
             ],
             [
              0.1111111111111111,
              "#46039f"
             ],
             [
              0.2222222222222222,
              "#7201a8"
             ],
             [
              0.3333333333333333,
              "#9c179e"
             ],
             [
              0.4444444444444444,
              "#bd3786"
             ],
             [
              0.5555555555555556,
              "#d8576b"
             ],
             [
              0.6666666666666666,
              "#ed7953"
             ],
             [
              0.7777777777777778,
              "#fb9f3a"
             ],
             [
              0.8888888888888888,
              "#fdca26"
             ],
             [
              1,
              "#f0f921"
             ]
            ],
            "type": "heatmap"
           }
          ],
          "heatmapgl": [
           {
            "colorbar": {
             "outlinewidth": 0,
             "ticks": ""
            },
            "colorscale": [
             [
              0,
              "#0d0887"
             ],
             [
              0.1111111111111111,
              "#46039f"
             ],
             [
              0.2222222222222222,
              "#7201a8"
             ],
             [
              0.3333333333333333,
              "#9c179e"
             ],
             [
              0.4444444444444444,
              "#bd3786"
             ],
             [
              0.5555555555555556,
              "#d8576b"
             ],
             [
              0.6666666666666666,
              "#ed7953"
             ],
             [
              0.7777777777777778,
              "#fb9f3a"
             ],
             [
              0.8888888888888888,
              "#fdca26"
             ],
             [
              1,
              "#f0f921"
             ]
            ],
            "type": "heatmapgl"
           }
          ],
          "histogram": [
           {
            "marker": {
             "pattern": {
              "fillmode": "overlay",
              "size": 10,
              "solidity": 0.2
             }
            },
            "type": "histogram"
           }
          ],
          "histogram2d": [
           {
            "colorbar": {
             "outlinewidth": 0,
             "ticks": ""
            },
            "colorscale": [
             [
              0,
              "#0d0887"
             ],
             [
              0.1111111111111111,
              "#46039f"
             ],
             [
              0.2222222222222222,
              "#7201a8"
             ],
             [
              0.3333333333333333,
              "#9c179e"
             ],
             [
              0.4444444444444444,
              "#bd3786"
             ],
             [
              0.5555555555555556,
              "#d8576b"
             ],
             [
              0.6666666666666666,
              "#ed7953"
             ],
             [
              0.7777777777777778,
              "#fb9f3a"
             ],
             [
              0.8888888888888888,
              "#fdca26"
             ],
             [
              1,
              "#f0f921"
             ]
            ],
            "type": "histogram2d"
           }
          ],
          "histogram2dcontour": [
           {
            "colorbar": {
             "outlinewidth": 0,
             "ticks": ""
            },
            "colorscale": [
             [
              0,
              "#0d0887"
             ],
             [
              0.1111111111111111,
              "#46039f"
             ],
             [
              0.2222222222222222,
              "#7201a8"
             ],
             [
              0.3333333333333333,
              "#9c179e"
             ],
             [
              0.4444444444444444,
              "#bd3786"
             ],
             [
              0.5555555555555556,
              "#d8576b"
             ],
             [
              0.6666666666666666,
              "#ed7953"
             ],
             [
              0.7777777777777778,
              "#fb9f3a"
             ],
             [
              0.8888888888888888,
              "#fdca26"
             ],
             [
              1,
              "#f0f921"
             ]
            ],
            "type": "histogram2dcontour"
           }
          ],
          "mesh3d": [
           {
            "colorbar": {
             "outlinewidth": 0,
             "ticks": ""
            },
            "type": "mesh3d"
           }
          ],
          "parcoords": [
           {
            "line": {
             "colorbar": {
              "outlinewidth": 0,
              "ticks": ""
             }
            },
            "type": "parcoords"
           }
          ],
          "pie": [
           {
            "automargin": true,
            "type": "pie"
           }
          ],
          "scatter": [
           {
            "fillpattern": {
             "fillmode": "overlay",
             "size": 10,
             "solidity": 0.2
            },
            "type": "scatter"
           }
          ],
          "scatter3d": [
           {
            "line": {
             "colorbar": {
              "outlinewidth": 0,
              "ticks": ""
             }
            },
            "marker": {
             "colorbar": {
              "outlinewidth": 0,
              "ticks": ""
             }
            },
            "type": "scatter3d"
           }
          ],
          "scattercarpet": [
           {
            "marker": {
             "colorbar": {
              "outlinewidth": 0,
              "ticks": ""
             }
            },
            "type": "scattercarpet"
           }
          ],
          "scattergeo": [
           {
            "marker": {
             "colorbar": {
              "outlinewidth": 0,
              "ticks": ""
             }
            },
            "type": "scattergeo"
           }
          ],
          "scattergl": [
           {
            "marker": {
             "colorbar": {
              "outlinewidth": 0,
              "ticks": ""
             }
            },
            "type": "scattergl"
           }
          ],
          "scattermapbox": [
           {
            "marker": {
             "colorbar": {
              "outlinewidth": 0,
              "ticks": ""
             }
            },
            "type": "scattermapbox"
           }
          ],
          "scatterpolar": [
           {
            "marker": {
             "colorbar": {
              "outlinewidth": 0,
              "ticks": ""
             }
            },
            "type": "scatterpolar"
           }
          ],
          "scatterpolargl": [
           {
            "marker": {
             "colorbar": {
              "outlinewidth": 0,
              "ticks": ""
             }
            },
            "type": "scatterpolargl"
           }
          ],
          "scatterternary": [
           {
            "marker": {
             "colorbar": {
              "outlinewidth": 0,
              "ticks": ""
             }
            },
            "type": "scatterternary"
           }
          ],
          "surface": [
           {
            "colorbar": {
             "outlinewidth": 0,
             "ticks": ""
            },
            "colorscale": [
             [
              0,
              "#0d0887"
             ],
             [
              0.1111111111111111,
              "#46039f"
             ],
             [
              0.2222222222222222,
              "#7201a8"
             ],
             [
              0.3333333333333333,
              "#9c179e"
             ],
             [
              0.4444444444444444,
              "#bd3786"
             ],
             [
              0.5555555555555556,
              "#d8576b"
             ],
             [
              0.6666666666666666,
              "#ed7953"
             ],
             [
              0.7777777777777778,
              "#fb9f3a"
             ],
             [
              0.8888888888888888,
              "#fdca26"
             ],
             [
              1,
              "#f0f921"
             ]
            ],
            "type": "surface"
           }
          ],
          "table": [
           {
            "cells": {
             "fill": {
              "color": "#EBF0F8"
             },
             "line": {
              "color": "white"
             }
            },
            "header": {
             "fill": {
              "color": "#C8D4E3"
             },
             "line": {
              "color": "white"
             }
            },
            "type": "table"
           }
          ]
         },
         "layout": {
          "annotationdefaults": {
           "arrowcolor": "#2a3f5f",
           "arrowhead": 0,
           "arrowwidth": 1
          },
          "autotypenumbers": "strict",
          "coloraxis": {
           "colorbar": {
            "outlinewidth": 0,
            "ticks": ""
           }
          },
          "colorscale": {
           "diverging": [
            [
             0,
             "#8e0152"
            ],
            [
             0.1,
             "#c51b7d"
            ],
            [
             0.2,
             "#de77ae"
            ],
            [
             0.3,
             "#f1b6da"
            ],
            [
             0.4,
             "#fde0ef"
            ],
            [
             0.5,
             "#f7f7f7"
            ],
            [
             0.6,
             "#e6f5d0"
            ],
            [
             0.7,
             "#b8e186"
            ],
            [
             0.8,
             "#7fbc41"
            ],
            [
             0.9,
             "#4d9221"
            ],
            [
             1,
             "#276419"
            ]
           ],
           "sequential": [
            [
             0,
             "#0d0887"
            ],
            [
             0.1111111111111111,
             "#46039f"
            ],
            [
             0.2222222222222222,
             "#7201a8"
            ],
            [
             0.3333333333333333,
             "#9c179e"
            ],
            [
             0.4444444444444444,
             "#bd3786"
            ],
            [
             0.5555555555555556,
             "#d8576b"
            ],
            [
             0.6666666666666666,
             "#ed7953"
            ],
            [
             0.7777777777777778,
             "#fb9f3a"
            ],
            [
             0.8888888888888888,
             "#fdca26"
            ],
            [
             1,
             "#f0f921"
            ]
           ],
           "sequentialminus": [
            [
             0,
             "#0d0887"
            ],
            [
             0.1111111111111111,
             "#46039f"
            ],
            [
             0.2222222222222222,
             "#7201a8"
            ],
            [
             0.3333333333333333,
             "#9c179e"
            ],
            [
             0.4444444444444444,
             "#bd3786"
            ],
            [
             0.5555555555555556,
             "#d8576b"
            ],
            [
             0.6666666666666666,
             "#ed7953"
            ],
            [
             0.7777777777777778,
             "#fb9f3a"
            ],
            [
             0.8888888888888888,
             "#fdca26"
            ],
            [
             1,
             "#f0f921"
            ]
           ]
          },
          "colorway": [
           "#636efa",
           "#EF553B",
           "#00cc96",
           "#ab63fa",
           "#FFA15A",
           "#19d3f3",
           "#FF6692",
           "#B6E880",
           "#FF97FF",
           "#FECB52"
          ],
          "font": {
           "color": "#2a3f5f"
          },
          "geo": {
           "bgcolor": "white",
           "lakecolor": "white",
           "landcolor": "#E5ECF6",
           "showlakes": true,
           "showland": true,
           "subunitcolor": "white"
          },
          "hoverlabel": {
           "align": "left"
          },
          "hovermode": "closest",
          "mapbox": {
           "style": "light"
          },
          "paper_bgcolor": "white",
          "plot_bgcolor": "#E5ECF6",
          "polar": {
           "angularaxis": {
            "gridcolor": "white",
            "linecolor": "white",
            "ticks": ""
           },
           "bgcolor": "#E5ECF6",
           "radialaxis": {
            "gridcolor": "white",
            "linecolor": "white",
            "ticks": ""
           }
          },
          "scene": {
           "xaxis": {
            "backgroundcolor": "#E5ECF6",
            "gridcolor": "white",
            "gridwidth": 2,
            "linecolor": "white",
            "showbackground": true,
            "ticks": "",
            "zerolinecolor": "white"
           },
           "yaxis": {
            "backgroundcolor": "#E5ECF6",
            "gridcolor": "white",
            "gridwidth": 2,
            "linecolor": "white",
            "showbackground": true,
            "ticks": "",
            "zerolinecolor": "white"
           },
           "zaxis": {
            "backgroundcolor": "#E5ECF6",
            "gridcolor": "white",
            "gridwidth": 2,
            "linecolor": "white",
            "showbackground": true,
            "ticks": "",
            "zerolinecolor": "white"
           }
          },
          "shapedefaults": {
           "line": {
            "color": "#2a3f5f"
           }
          },
          "ternary": {
           "aaxis": {
            "gridcolor": "white",
            "linecolor": "white",
            "ticks": ""
           },
           "baxis": {
            "gridcolor": "white",
            "linecolor": "white",
            "ticks": ""
           },
           "bgcolor": "#E5ECF6",
           "caxis": {
            "gridcolor": "white",
            "linecolor": "white",
            "ticks": ""
           }
          },
          "title": {
           "x": 0.05
          },
          "xaxis": {
           "automargin": true,
           "gridcolor": "white",
           "linecolor": "white",
           "ticks": "",
           "title": {
            "standoff": 15
           },
           "zerolinecolor": "white",
           "zerolinewidth": 2
          },
          "yaxis": {
           "automargin": true,
           "gridcolor": "white",
           "linecolor": "white",
           "ticks": "",
           "title": {
            "standoff": 15
           },
           "zerolinecolor": "white",
           "zerolinewidth": 2
          }
         }
        },
        "title": {
         "text": "Gender Unemployment Gap"
        },
        "xaxis": {
         "anchor": "y",
         "domain": [
          0,
          1
         ],
         "title": {
          "text": "Year"
         }
        },
        "yaxis": {
         "anchor": "x",
         "domain": [
          0,
          1
         ],
         "title": {
          "text": "Unemployment Rate (%)"
         }
        }
       }
      }
     },
     "metadata": {},
     "output_type": "display_data"
    }
   ],
   "source": [
    "fig2 = px.line(unemployment_data, x=unemployment_data.index, y=unemployment_data.columns,\n",
    "               title='Gender Unemployment Gap')\n",
    "fig2.update_layout(yaxis_title='Unemployment Rate (%)', xaxis_title='Year')"
   ]
  },
  {
   "cell_type": "code",
   "execution_count": null,
   "metadata": {},
   "outputs": [],
   "source": [
    "# Verified"
   ]
  },
  {
   "cell_type": "markdown",
   "metadata": {},
   "source": [
    "# 3. Part-Time Employment by Gender\n"
   ]
  },
  {
   "cell_type": "code",
   "execution_count": 48,
   "metadata": {},
   "outputs": [],
   "source": [
    "part_time_data = dfy[['Part time employment, male (% of total male employment)',\n",
    "                     'Part time employment, female (% of total female employment)']]\n",
    "part_time_data.columns = ['Male', 'Female']"
   ]
  },
  {
   "cell_type": "code",
   "execution_count": 50,
   "metadata": {},
   "outputs": [
    {
     "data": {
      "application/vnd.plotly.v1+json": {
       "config": {
        "plotlyServerURL": "https://plot.ly"
       },
       "data": [
        {
         "hovertemplate": "variable=Male<br>Year=%{x}<br>value=%{y}<extra></extra>",
         "legendgroup": "Male",
         "line": {
          "color": "#636efa",
          "dash": "solid"
         },
         "marker": {
          "symbol": "circle"
         },
         "mode": "lines",
         "name": "Male",
         "orientation": "v",
         "showlegend": true,
         "type": "scatter",
         "x": [
          "1991-01-01T00:00:00",
          "1992-01-01T00:00:00",
          "1993-01-01T00:00:00",
          "1994-01-01T00:00:00",
          "1995-01-01T00:00:00",
          "1996-01-01T00:00:00",
          "1997-01-01T00:00:00",
          "1998-01-01T00:00:00",
          "1999-01-01T00:00:00",
          "2000-01-01T00:00:00",
          "2001-01-01T00:00:00",
          "2002-01-01T00:00:00",
          "2003-01-01T00:00:00",
          "2004-01-01T00:00:00",
          "2005-01-01T00:00:00",
          "2006-01-01T00:00:00",
          "2007-01-01T00:00:00",
          "2008-01-01T00:00:00",
          "2009-01-01T00:00:00",
          "2010-01-01T00:00:00",
          "2011-01-01T00:00:00",
          "2012-01-01T00:00:00",
          "2013-01-01T00:00:00",
          "2014-01-01T00:00:00",
          "2015-01-01T00:00:00",
          "2016-01-01T00:00:00",
          "2017-01-01T00:00:00",
          "2018-01-01T00:00:00",
          "2019-01-01T00:00:00",
          "2020-01-01T00:00:00",
          "2021-01-01T00:00:00",
          "2022-01-01T00:00:00",
          "2023-01-01T00:00:00"
         ],
         "xaxis": "x",
         "y": [
          23.82,
          26.5,
          25.24,
          25.13,
          24.45,
          24.78,
          26.51,
          26.8,
          26.12,
          26.75,
          25.95,
          26.22,
          28.01,
          27.66,
          27.02,
          27.48,
          27.46,
          28.75,
          28.73,
          29.66,
          29.01,
          28.42,
          27.43,
          27.91,
          28.83,
          27.29,
          27.66,
          28.26,
          26.43,
          35.45,
          32.11,
          28.83,
          29.52
         ],
         "yaxis": "y"
        },
        {
         "hovertemplate": "variable=Female<br>Year=%{x}<br>value=%{y}<extra></extra>",
         "legendgroup": "Female",
         "line": {
          "color": "#EF553B",
          "dash": "solid"
         },
         "marker": {
          "symbol": "circle"
         },
         "mode": "lines",
         "name": "Female",
         "orientation": "v",
         "showlegend": true,
         "type": "scatter",
         "x": [
          "1991-01-01T00:00:00",
          "1992-01-01T00:00:00",
          "1993-01-01T00:00:00",
          "1994-01-01T00:00:00",
          "1995-01-01T00:00:00",
          "1996-01-01T00:00:00",
          "1997-01-01T00:00:00",
          "1998-01-01T00:00:00",
          "1999-01-01T00:00:00",
          "2000-01-01T00:00:00",
          "2001-01-01T00:00:00",
          "2002-01-01T00:00:00",
          "2003-01-01T00:00:00",
          "2004-01-01T00:00:00",
          "2005-01-01T00:00:00",
          "2006-01-01T00:00:00",
          "2007-01-01T00:00:00",
          "2008-01-01T00:00:00",
          "2009-01-01T00:00:00",
          "2010-01-01T00:00:00",
          "2011-01-01T00:00:00",
          "2012-01-01T00:00:00",
          "2013-01-01T00:00:00",
          "2014-01-01T00:00:00",
          "2015-01-01T00:00:00",
          "2016-01-01T00:00:00",
          "2017-01-01T00:00:00",
          "2018-01-01T00:00:00",
          "2019-01-01T00:00:00",
          "2020-01-01T00:00:00",
          "2021-01-01T00:00:00",
          "2022-01-01T00:00:00",
          "2023-01-01T00:00:00"
         ],
         "xaxis": "x",
         "y": [
          58.89,
          60.39,
          59.61,
          59.83,
          59.7,
          59.88,
          60.68,
          60.78,
          59.17,
          60.47,
          59.04,
          58.9,
          59.46,
          59.61,
          58.17,
          58.1,
          58.14,
          58.61,
          58.85,
          59.69,
          59.58,
          58.69,
          57.45,
          57.5,
          58.08,
          56.68,
          57.11,
          57.05,
          54.46,
          59.62,
          55.8,
          53.41,
          53.3
         ],
         "yaxis": "y"
        }
       ],
       "layout": {
        "legend": {
         "title": {
          "text": "variable"
         },
         "tracegroupgap": 0
        },
        "template": {
         "data": {
          "bar": [
           {
            "error_x": {
             "color": "#2a3f5f"
            },
            "error_y": {
             "color": "#2a3f5f"
            },
            "marker": {
             "line": {
              "color": "#E5ECF6",
              "width": 0.5
             },
             "pattern": {
              "fillmode": "overlay",
              "size": 10,
              "solidity": 0.2
             }
            },
            "type": "bar"
           }
          ],
          "barpolar": [
           {
            "marker": {
             "line": {
              "color": "#E5ECF6",
              "width": 0.5
             },
             "pattern": {
              "fillmode": "overlay",
              "size": 10,
              "solidity": 0.2
             }
            },
            "type": "barpolar"
           }
          ],
          "carpet": [
           {
            "aaxis": {
             "endlinecolor": "#2a3f5f",
             "gridcolor": "white",
             "linecolor": "white",
             "minorgridcolor": "white",
             "startlinecolor": "#2a3f5f"
            },
            "baxis": {
             "endlinecolor": "#2a3f5f",
             "gridcolor": "white",
             "linecolor": "white",
             "minorgridcolor": "white",
             "startlinecolor": "#2a3f5f"
            },
            "type": "carpet"
           }
          ],
          "choropleth": [
           {
            "colorbar": {
             "outlinewidth": 0,
             "ticks": ""
            },
            "type": "choropleth"
           }
          ],
          "contour": [
           {
            "colorbar": {
             "outlinewidth": 0,
             "ticks": ""
            },
            "colorscale": [
             [
              0,
              "#0d0887"
             ],
             [
              0.1111111111111111,
              "#46039f"
             ],
             [
              0.2222222222222222,
              "#7201a8"
             ],
             [
              0.3333333333333333,
              "#9c179e"
             ],
             [
              0.4444444444444444,
              "#bd3786"
             ],
             [
              0.5555555555555556,
              "#d8576b"
             ],
             [
              0.6666666666666666,
              "#ed7953"
             ],
             [
              0.7777777777777778,
              "#fb9f3a"
             ],
             [
              0.8888888888888888,
              "#fdca26"
             ],
             [
              1,
              "#f0f921"
             ]
            ],
            "type": "contour"
           }
          ],
          "contourcarpet": [
           {
            "colorbar": {
             "outlinewidth": 0,
             "ticks": ""
            },
            "type": "contourcarpet"
           }
          ],
          "heatmap": [
           {
            "colorbar": {
             "outlinewidth": 0,
             "ticks": ""
            },
            "colorscale": [
             [
              0,
              "#0d0887"
             ],
             [
              0.1111111111111111,
              "#46039f"
             ],
             [
              0.2222222222222222,
              "#7201a8"
             ],
             [
              0.3333333333333333,
              "#9c179e"
             ],
             [
              0.4444444444444444,
              "#bd3786"
             ],
             [
              0.5555555555555556,
              "#d8576b"
             ],
             [
              0.6666666666666666,
              "#ed7953"
             ],
             [
              0.7777777777777778,
              "#fb9f3a"
             ],
             [
              0.8888888888888888,
              "#fdca26"
             ],
             [
              1,
              "#f0f921"
             ]
            ],
            "type": "heatmap"
           }
          ],
          "heatmapgl": [
           {
            "colorbar": {
             "outlinewidth": 0,
             "ticks": ""
            },
            "colorscale": [
             [
              0,
              "#0d0887"
             ],
             [
              0.1111111111111111,
              "#46039f"
             ],
             [
              0.2222222222222222,
              "#7201a8"
             ],
             [
              0.3333333333333333,
              "#9c179e"
             ],
             [
              0.4444444444444444,
              "#bd3786"
             ],
             [
              0.5555555555555556,
              "#d8576b"
             ],
             [
              0.6666666666666666,
              "#ed7953"
             ],
             [
              0.7777777777777778,
              "#fb9f3a"
             ],
             [
              0.8888888888888888,
              "#fdca26"
             ],
             [
              1,
              "#f0f921"
             ]
            ],
            "type": "heatmapgl"
           }
          ],
          "histogram": [
           {
            "marker": {
             "pattern": {
              "fillmode": "overlay",
              "size": 10,
              "solidity": 0.2
             }
            },
            "type": "histogram"
           }
          ],
          "histogram2d": [
           {
            "colorbar": {
             "outlinewidth": 0,
             "ticks": ""
            },
            "colorscale": [
             [
              0,
              "#0d0887"
             ],
             [
              0.1111111111111111,
              "#46039f"
             ],
             [
              0.2222222222222222,
              "#7201a8"
             ],
             [
              0.3333333333333333,
              "#9c179e"
             ],
             [
              0.4444444444444444,
              "#bd3786"
             ],
             [
              0.5555555555555556,
              "#d8576b"
             ],
             [
              0.6666666666666666,
              "#ed7953"
             ],
             [
              0.7777777777777778,
              "#fb9f3a"
             ],
             [
              0.8888888888888888,
              "#fdca26"
             ],
             [
              1,
              "#f0f921"
             ]
            ],
            "type": "histogram2d"
           }
          ],
          "histogram2dcontour": [
           {
            "colorbar": {
             "outlinewidth": 0,
             "ticks": ""
            },
            "colorscale": [
             [
              0,
              "#0d0887"
             ],
             [
              0.1111111111111111,
              "#46039f"
             ],
             [
              0.2222222222222222,
              "#7201a8"
             ],
             [
              0.3333333333333333,
              "#9c179e"
             ],
             [
              0.4444444444444444,
              "#bd3786"
             ],
             [
              0.5555555555555556,
              "#d8576b"
             ],
             [
              0.6666666666666666,
              "#ed7953"
             ],
             [
              0.7777777777777778,
              "#fb9f3a"
             ],
             [
              0.8888888888888888,
              "#fdca26"
             ],
             [
              1,
              "#f0f921"
             ]
            ],
            "type": "histogram2dcontour"
           }
          ],
          "mesh3d": [
           {
            "colorbar": {
             "outlinewidth": 0,
             "ticks": ""
            },
            "type": "mesh3d"
           }
          ],
          "parcoords": [
           {
            "line": {
             "colorbar": {
              "outlinewidth": 0,
              "ticks": ""
             }
            },
            "type": "parcoords"
           }
          ],
          "pie": [
           {
            "automargin": true,
            "type": "pie"
           }
          ],
          "scatter": [
           {
            "fillpattern": {
             "fillmode": "overlay",
             "size": 10,
             "solidity": 0.2
            },
            "type": "scatter"
           }
          ],
          "scatter3d": [
           {
            "line": {
             "colorbar": {
              "outlinewidth": 0,
              "ticks": ""
             }
            },
            "marker": {
             "colorbar": {
              "outlinewidth": 0,
              "ticks": ""
             }
            },
            "type": "scatter3d"
           }
          ],
          "scattercarpet": [
           {
            "marker": {
             "colorbar": {
              "outlinewidth": 0,
              "ticks": ""
             }
            },
            "type": "scattercarpet"
           }
          ],
          "scattergeo": [
           {
            "marker": {
             "colorbar": {
              "outlinewidth": 0,
              "ticks": ""
             }
            },
            "type": "scattergeo"
           }
          ],
          "scattergl": [
           {
            "marker": {
             "colorbar": {
              "outlinewidth": 0,
              "ticks": ""
             }
            },
            "type": "scattergl"
           }
          ],
          "scattermapbox": [
           {
            "marker": {
             "colorbar": {
              "outlinewidth": 0,
              "ticks": ""
             }
            },
            "type": "scattermapbox"
           }
          ],
          "scatterpolar": [
           {
            "marker": {
             "colorbar": {
              "outlinewidth": 0,
              "ticks": ""
             }
            },
            "type": "scatterpolar"
           }
          ],
          "scatterpolargl": [
           {
            "marker": {
             "colorbar": {
              "outlinewidth": 0,
              "ticks": ""
             }
            },
            "type": "scatterpolargl"
           }
          ],
          "scatterternary": [
           {
            "marker": {
             "colorbar": {
              "outlinewidth": 0,
              "ticks": ""
             }
            },
            "type": "scatterternary"
           }
          ],
          "surface": [
           {
            "colorbar": {
             "outlinewidth": 0,
             "ticks": ""
            },
            "colorscale": [
             [
              0,
              "#0d0887"
             ],
             [
              0.1111111111111111,
              "#46039f"
             ],
             [
              0.2222222222222222,
              "#7201a8"
             ],
             [
              0.3333333333333333,
              "#9c179e"
             ],
             [
              0.4444444444444444,
              "#bd3786"
             ],
             [
              0.5555555555555556,
              "#d8576b"
             ],
             [
              0.6666666666666666,
              "#ed7953"
             ],
             [
              0.7777777777777778,
              "#fb9f3a"
             ],
             [
              0.8888888888888888,
              "#fdca26"
             ],
             [
              1,
              "#f0f921"
             ]
            ],
            "type": "surface"
           }
          ],
          "table": [
           {
            "cells": {
             "fill": {
              "color": "#EBF0F8"
             },
             "line": {
              "color": "white"
             }
            },
            "header": {
             "fill": {
              "color": "#C8D4E3"
             },
             "line": {
              "color": "white"
             }
            },
            "type": "table"
           }
          ]
         },
         "layout": {
          "annotationdefaults": {
           "arrowcolor": "#2a3f5f",
           "arrowhead": 0,
           "arrowwidth": 1
          },
          "autotypenumbers": "strict",
          "coloraxis": {
           "colorbar": {
            "outlinewidth": 0,
            "ticks": ""
           }
          },
          "colorscale": {
           "diverging": [
            [
             0,
             "#8e0152"
            ],
            [
             0.1,
             "#c51b7d"
            ],
            [
             0.2,
             "#de77ae"
            ],
            [
             0.3,
             "#f1b6da"
            ],
            [
             0.4,
             "#fde0ef"
            ],
            [
             0.5,
             "#f7f7f7"
            ],
            [
             0.6,
             "#e6f5d0"
            ],
            [
             0.7,
             "#b8e186"
            ],
            [
             0.8,
             "#7fbc41"
            ],
            [
             0.9,
             "#4d9221"
            ],
            [
             1,
             "#276419"
            ]
           ],
           "sequential": [
            [
             0,
             "#0d0887"
            ],
            [
             0.1111111111111111,
             "#46039f"
            ],
            [
             0.2222222222222222,
             "#7201a8"
            ],
            [
             0.3333333333333333,
             "#9c179e"
            ],
            [
             0.4444444444444444,
             "#bd3786"
            ],
            [
             0.5555555555555556,
             "#d8576b"
            ],
            [
             0.6666666666666666,
             "#ed7953"
            ],
            [
             0.7777777777777778,
             "#fb9f3a"
            ],
            [
             0.8888888888888888,
             "#fdca26"
            ],
            [
             1,
             "#f0f921"
            ]
           ],
           "sequentialminus": [
            [
             0,
             "#0d0887"
            ],
            [
             0.1111111111111111,
             "#46039f"
            ],
            [
             0.2222222222222222,
             "#7201a8"
            ],
            [
             0.3333333333333333,
             "#9c179e"
            ],
            [
             0.4444444444444444,
             "#bd3786"
            ],
            [
             0.5555555555555556,
             "#d8576b"
            ],
            [
             0.6666666666666666,
             "#ed7953"
            ],
            [
             0.7777777777777778,
             "#fb9f3a"
            ],
            [
             0.8888888888888888,
             "#fdca26"
            ],
            [
             1,
             "#f0f921"
            ]
           ]
          },
          "colorway": [
           "#636efa",
           "#EF553B",
           "#00cc96",
           "#ab63fa",
           "#FFA15A",
           "#19d3f3",
           "#FF6692",
           "#B6E880",
           "#FF97FF",
           "#FECB52"
          ],
          "font": {
           "color": "#2a3f5f"
          },
          "geo": {
           "bgcolor": "white",
           "lakecolor": "white",
           "landcolor": "#E5ECF6",
           "showlakes": true,
           "showland": true,
           "subunitcolor": "white"
          },
          "hoverlabel": {
           "align": "left"
          },
          "hovermode": "closest",
          "mapbox": {
           "style": "light"
          },
          "paper_bgcolor": "white",
          "plot_bgcolor": "#E5ECF6",
          "polar": {
           "angularaxis": {
            "gridcolor": "white",
            "linecolor": "white",
            "ticks": ""
           },
           "bgcolor": "#E5ECF6",
           "radialaxis": {
            "gridcolor": "white",
            "linecolor": "white",
            "ticks": ""
           }
          },
          "scene": {
           "xaxis": {
            "backgroundcolor": "#E5ECF6",
            "gridcolor": "white",
            "gridwidth": 2,
            "linecolor": "white",
            "showbackground": true,
            "ticks": "",
            "zerolinecolor": "white"
           },
           "yaxis": {
            "backgroundcolor": "#E5ECF6",
            "gridcolor": "white",
            "gridwidth": 2,
            "linecolor": "white",
            "showbackground": true,
            "ticks": "",
            "zerolinecolor": "white"
           },
           "zaxis": {
            "backgroundcolor": "#E5ECF6",
            "gridcolor": "white",
            "gridwidth": 2,
            "linecolor": "white",
            "showbackground": true,
            "ticks": "",
            "zerolinecolor": "white"
           }
          },
          "shapedefaults": {
           "line": {
            "color": "#2a3f5f"
           }
          },
          "ternary": {
           "aaxis": {
            "gridcolor": "white",
            "linecolor": "white",
            "ticks": ""
           },
           "baxis": {
            "gridcolor": "white",
            "linecolor": "white",
            "ticks": ""
           },
           "bgcolor": "#E5ECF6",
           "caxis": {
            "gridcolor": "white",
            "linecolor": "white",
            "ticks": ""
           }
          },
          "title": {
           "x": 0.05
          },
          "xaxis": {
           "automargin": true,
           "gridcolor": "white",
           "linecolor": "white",
           "ticks": "",
           "title": {
            "standoff": 15
           },
           "zerolinecolor": "white",
           "zerolinewidth": 2
          },
          "yaxis": {
           "automargin": true,
           "gridcolor": "white",
           "linecolor": "white",
           "ticks": "",
           "title": {
            "standoff": 15
           },
           "zerolinecolor": "white",
           "zerolinewidth": 2
          }
         }
        },
        "title": {
         "text": "Part-time Employment Rate by Gender"
        },
        "xaxis": {
         "anchor": "y",
         "domain": [
          0,
          1
         ],
         "title": {
          "text": "Year"
         }
        },
        "yaxis": {
         "anchor": "x",
         "domain": [
          0,
          1
         ],
         "title": {
          "text": "Part-time Employment %"
         }
        }
       }
      }
     },
     "metadata": {},
     "output_type": "display_data"
    }
   ],
   "source": [
    "fig3 = px.line(part_time_data, x=part_time_data.index, y=part_time_data.columns,\n",
    "               title = \"Part-time Employment Rate by Gender\")\n",
    "fig3.update_layout(xaxis_title='Year', yaxis_title=\"Part-time Employment %\")"
   ]
  },
  {
   "cell_type": "code",
   "execution_count": 65,
   "metadata": {},
   "outputs": [],
   "source": [
    "# A difference of  ~20% is noticed"
   ]
  },
  {
   "cell_type": "markdown",
   "metadata": {},
   "source": [
    "# 4. Self-Employment Trends\n"
   ]
  },
  {
   "cell_type": "code",
   "execution_count": 55,
   "metadata": {},
   "outputs": [],
   "source": [
    "self_employment_data = dfy[['Self-employed, male (% of male employment) (modeled ILO estimate)',\n",
    "                           'Self-employed, female (% of female employment) (modeled ILO estimate)']]\n",
    "self_employment_data.columns = [ 'Male', 'Female']"
   ]
  },
  {
   "cell_type": "code",
   "execution_count": 57,
   "metadata": {},
   "outputs": [
    {
     "data": {
      "application/vnd.plotly.v1+json": {
       "config": {
        "plotlyServerURL": "https://plot.ly"
       },
       "data": [
        {
         "hovertemplate": "variable=Male<br>Year=%{x}<br>value=%{y}<extra></extra>",
         "legendgroup": "Male",
         "line": {
          "color": "#636efa",
          "dash": "solid"
         },
         "marker": {
          "symbol": "circle"
         },
         "mode": "lines",
         "name": "Male",
         "orientation": "v",
         "showlegend": true,
         "type": "scatter",
         "x": [
          "1991-01-01T00:00:00",
          "1992-01-01T00:00:00",
          "1993-01-01T00:00:00",
          "1994-01-01T00:00:00",
          "1995-01-01T00:00:00",
          "1996-01-01T00:00:00",
          "1997-01-01T00:00:00",
          "1998-01-01T00:00:00",
          "1999-01-01T00:00:00",
          "2000-01-01T00:00:00",
          "2001-01-01T00:00:00",
          "2002-01-01T00:00:00",
          "2003-01-01T00:00:00",
          "2004-01-01T00:00:00",
          "2005-01-01T00:00:00",
          "2006-01-01T00:00:00",
          "2007-01-01T00:00:00",
          "2008-01-01T00:00:00",
          "2009-01-01T00:00:00",
          "2010-01-01T00:00:00",
          "2011-01-01T00:00:00",
          "2012-01-01T00:00:00",
          "2013-01-01T00:00:00",
          "2014-01-01T00:00:00",
          "2015-01-01T00:00:00",
          "2016-01-01T00:00:00",
          "2017-01-01T00:00:00",
          "2018-01-01T00:00:00",
          "2019-01-01T00:00:00",
          "2020-01-01T00:00:00",
          "2021-01-01T00:00:00",
          "2022-01-01T00:00:00",
          "2023-01-01T00:00:00"
         ],
         "xaxis": "x",
         "y": [
          18.1466754157053,
          17.5977029862568,
          17.4624278406707,
          18.0234740504906,
          18.1721282622814,
          17.501315126845,
          17.2200610257208,
          16.4065052932246,
          16.8345148641571,
          16.0343017252765,
          16.2625091604878,
          16.4973593163527,
          17.0534489265626,
          17.5849366016496,
          17.462973831962,
          17.6321728517995,
          17.803572341147,
          17.8073384460865,
          18.0672478972771,
          18.3860769212965,
          18.5242408418796,
          19.0188624993203,
          18.879724523989,
          19.4612861003479,
          19.045456863064,
          19.4747409022289,
          19.1626012117153,
          18.8314500831857,
          19.5367085076407,
          19.8254836254655,
          19.7013682474979,
          19.6590901922553,
          null
         ],
         "yaxis": "y"
        },
        {
         "hovertemplate": "variable=Female<br>Year=%{x}<br>value=%{y}<extra></extra>",
         "legendgroup": "Female",
         "line": {
          "color": "#EF553B",
          "dash": "solid"
         },
         "marker": {
          "symbol": "circle"
         },
         "mode": "lines",
         "name": "Female",
         "orientation": "v",
         "showlegend": true,
         "type": "scatter",
         "x": [
          "1991-01-01T00:00:00",
          "1992-01-01T00:00:00",
          "1993-01-01T00:00:00",
          "1994-01-01T00:00:00",
          "1995-01-01T00:00:00",
          "1996-01-01T00:00:00",
          "1997-01-01T00:00:00",
          "1998-01-01T00:00:00",
          "1999-01-01T00:00:00",
          "2000-01-01T00:00:00",
          "2001-01-01T00:00:00",
          "2002-01-01T00:00:00",
          "2003-01-01T00:00:00",
          "2004-01-01T00:00:00",
          "2005-01-01T00:00:00",
          "2006-01-01T00:00:00",
          "2007-01-01T00:00:00",
          "2008-01-01T00:00:00",
          "2009-01-01T00:00:00",
          "2010-01-01T00:00:00",
          "2011-01-01T00:00:00",
          "2012-01-01T00:00:00",
          "2013-01-01T00:00:00",
          "2014-01-01T00:00:00",
          "2015-01-01T00:00:00",
          "2016-01-01T00:00:00",
          "2017-01-01T00:00:00",
          "2018-01-01T00:00:00",
          "2019-01-01T00:00:00",
          "2020-01-01T00:00:00",
          "2021-01-01T00:00:00",
          "2022-01-01T00:00:00",
          "2023-01-01T00:00:00"
         ],
         "xaxis": "x",
         "y": [
          8.69288577175746,
          7.9902651853377,
          7.96771624096965,
          8.00923488804875,
          7.88340641254959,
          7.79902808872098,
          7.9278427869541,
          7.83567102395265,
          7.633090567096,
          7.83329175293487,
          7.42530333550699,
          7.45869663974024,
          7.86828526579498,
          7.86667924317229,
          7.81105180663622,
          8.12512351120336,
          8.24861772256596,
          8.17970214727934,
          8.55293747001968,
          9.03736612455375,
          9.27212202706568,
          9.70500333690245,
          9.82856557763195,
          10.5016654159366,
          10.4285551207627,
          10.8796102961973,
          10.9252699418086,
          10.9534118185407,
          11.1660035789188,
          11.1613404480964,
          11.3117059743979,
          11.3042379948268,
          null
         ],
         "yaxis": "y"
        }
       ],
       "layout": {
        "legend": {
         "title": {
          "text": "variable"
         },
         "tracegroupgap": 0
        },
        "template": {
         "data": {
          "bar": [
           {
            "error_x": {
             "color": "#2a3f5f"
            },
            "error_y": {
             "color": "#2a3f5f"
            },
            "marker": {
             "line": {
              "color": "#E5ECF6",
              "width": 0.5
             },
             "pattern": {
              "fillmode": "overlay",
              "size": 10,
              "solidity": 0.2
             }
            },
            "type": "bar"
           }
          ],
          "barpolar": [
           {
            "marker": {
             "line": {
              "color": "#E5ECF6",
              "width": 0.5
             },
             "pattern": {
              "fillmode": "overlay",
              "size": 10,
              "solidity": 0.2
             }
            },
            "type": "barpolar"
           }
          ],
          "carpet": [
           {
            "aaxis": {
             "endlinecolor": "#2a3f5f",
             "gridcolor": "white",
             "linecolor": "white",
             "minorgridcolor": "white",
             "startlinecolor": "#2a3f5f"
            },
            "baxis": {
             "endlinecolor": "#2a3f5f",
             "gridcolor": "white",
             "linecolor": "white",
             "minorgridcolor": "white",
             "startlinecolor": "#2a3f5f"
            },
            "type": "carpet"
           }
          ],
          "choropleth": [
           {
            "colorbar": {
             "outlinewidth": 0,
             "ticks": ""
            },
            "type": "choropleth"
           }
          ],
          "contour": [
           {
            "colorbar": {
             "outlinewidth": 0,
             "ticks": ""
            },
            "colorscale": [
             [
              0,
              "#0d0887"
             ],
             [
              0.1111111111111111,
              "#46039f"
             ],
             [
              0.2222222222222222,
              "#7201a8"
             ],
             [
              0.3333333333333333,
              "#9c179e"
             ],
             [
              0.4444444444444444,
              "#bd3786"
             ],
             [
              0.5555555555555556,
              "#d8576b"
             ],
             [
              0.6666666666666666,
              "#ed7953"
             ],
             [
              0.7777777777777778,
              "#fb9f3a"
             ],
             [
              0.8888888888888888,
              "#fdca26"
             ],
             [
              1,
              "#f0f921"
             ]
            ],
            "type": "contour"
           }
          ],
          "contourcarpet": [
           {
            "colorbar": {
             "outlinewidth": 0,
             "ticks": ""
            },
            "type": "contourcarpet"
           }
          ],
          "heatmap": [
           {
            "colorbar": {
             "outlinewidth": 0,
             "ticks": ""
            },
            "colorscale": [
             [
              0,
              "#0d0887"
             ],
             [
              0.1111111111111111,
              "#46039f"
             ],
             [
              0.2222222222222222,
              "#7201a8"
             ],
             [
              0.3333333333333333,
              "#9c179e"
             ],
             [
              0.4444444444444444,
              "#bd3786"
             ],
             [
              0.5555555555555556,
              "#d8576b"
             ],
             [
              0.6666666666666666,
              "#ed7953"
             ],
             [
              0.7777777777777778,
              "#fb9f3a"
             ],
             [
              0.8888888888888888,
              "#fdca26"
             ],
             [
              1,
              "#f0f921"
             ]
            ],
            "type": "heatmap"
           }
          ],
          "heatmapgl": [
           {
            "colorbar": {
             "outlinewidth": 0,
             "ticks": ""
            },
            "colorscale": [
             [
              0,
              "#0d0887"
             ],
             [
              0.1111111111111111,
              "#46039f"
             ],
             [
              0.2222222222222222,
              "#7201a8"
             ],
             [
              0.3333333333333333,
              "#9c179e"
             ],
             [
              0.4444444444444444,
              "#bd3786"
             ],
             [
              0.5555555555555556,
              "#d8576b"
             ],
             [
              0.6666666666666666,
              "#ed7953"
             ],
             [
              0.7777777777777778,
              "#fb9f3a"
             ],
             [
              0.8888888888888888,
              "#fdca26"
             ],
             [
              1,
              "#f0f921"
             ]
            ],
            "type": "heatmapgl"
           }
          ],
          "histogram": [
           {
            "marker": {
             "pattern": {
              "fillmode": "overlay",
              "size": 10,
              "solidity": 0.2
             }
            },
            "type": "histogram"
           }
          ],
          "histogram2d": [
           {
            "colorbar": {
             "outlinewidth": 0,
             "ticks": ""
            },
            "colorscale": [
             [
              0,
              "#0d0887"
             ],
             [
              0.1111111111111111,
              "#46039f"
             ],
             [
              0.2222222222222222,
              "#7201a8"
             ],
             [
              0.3333333333333333,
              "#9c179e"
             ],
             [
              0.4444444444444444,
              "#bd3786"
             ],
             [
              0.5555555555555556,
              "#d8576b"
             ],
             [
              0.6666666666666666,
              "#ed7953"
             ],
             [
              0.7777777777777778,
              "#fb9f3a"
             ],
             [
              0.8888888888888888,
              "#fdca26"
             ],
             [
              1,
              "#f0f921"
             ]
            ],
            "type": "histogram2d"
           }
          ],
          "histogram2dcontour": [
           {
            "colorbar": {
             "outlinewidth": 0,
             "ticks": ""
            },
            "colorscale": [
             [
              0,
              "#0d0887"
             ],
             [
              0.1111111111111111,
              "#46039f"
             ],
             [
              0.2222222222222222,
              "#7201a8"
             ],
             [
              0.3333333333333333,
              "#9c179e"
             ],
             [
              0.4444444444444444,
              "#bd3786"
             ],
             [
              0.5555555555555556,
              "#d8576b"
             ],
             [
              0.6666666666666666,
              "#ed7953"
             ],
             [
              0.7777777777777778,
              "#fb9f3a"
             ],
             [
              0.8888888888888888,
              "#fdca26"
             ],
             [
              1,
              "#f0f921"
             ]
            ],
            "type": "histogram2dcontour"
           }
          ],
          "mesh3d": [
           {
            "colorbar": {
             "outlinewidth": 0,
             "ticks": ""
            },
            "type": "mesh3d"
           }
          ],
          "parcoords": [
           {
            "line": {
             "colorbar": {
              "outlinewidth": 0,
              "ticks": ""
             }
            },
            "type": "parcoords"
           }
          ],
          "pie": [
           {
            "automargin": true,
            "type": "pie"
           }
          ],
          "scatter": [
           {
            "fillpattern": {
             "fillmode": "overlay",
             "size": 10,
             "solidity": 0.2
            },
            "type": "scatter"
           }
          ],
          "scatter3d": [
           {
            "line": {
             "colorbar": {
              "outlinewidth": 0,
              "ticks": ""
             }
            },
            "marker": {
             "colorbar": {
              "outlinewidth": 0,
              "ticks": ""
             }
            },
            "type": "scatter3d"
           }
          ],
          "scattercarpet": [
           {
            "marker": {
             "colorbar": {
              "outlinewidth": 0,
              "ticks": ""
             }
            },
            "type": "scattercarpet"
           }
          ],
          "scattergeo": [
           {
            "marker": {
             "colorbar": {
              "outlinewidth": 0,
              "ticks": ""
             }
            },
            "type": "scattergeo"
           }
          ],
          "scattergl": [
           {
            "marker": {
             "colorbar": {
              "outlinewidth": 0,
              "ticks": ""
             }
            },
            "type": "scattergl"
           }
          ],
          "scattermapbox": [
           {
            "marker": {
             "colorbar": {
              "outlinewidth": 0,
              "ticks": ""
             }
            },
            "type": "scattermapbox"
           }
          ],
          "scatterpolar": [
           {
            "marker": {
             "colorbar": {
              "outlinewidth": 0,
              "ticks": ""
             }
            },
            "type": "scatterpolar"
           }
          ],
          "scatterpolargl": [
           {
            "marker": {
             "colorbar": {
              "outlinewidth": 0,
              "ticks": ""
             }
            },
            "type": "scatterpolargl"
           }
          ],
          "scatterternary": [
           {
            "marker": {
             "colorbar": {
              "outlinewidth": 0,
              "ticks": ""
             }
            },
            "type": "scatterternary"
           }
          ],
          "surface": [
           {
            "colorbar": {
             "outlinewidth": 0,
             "ticks": ""
            },
            "colorscale": [
             [
              0,
              "#0d0887"
             ],
             [
              0.1111111111111111,
              "#46039f"
             ],
             [
              0.2222222222222222,
              "#7201a8"
             ],
             [
              0.3333333333333333,
              "#9c179e"
             ],
             [
              0.4444444444444444,
              "#bd3786"
             ],
             [
              0.5555555555555556,
              "#d8576b"
             ],
             [
              0.6666666666666666,
              "#ed7953"
             ],
             [
              0.7777777777777778,
              "#fb9f3a"
             ],
             [
              0.8888888888888888,
              "#fdca26"
             ],
             [
              1,
              "#f0f921"
             ]
            ],
            "type": "surface"
           }
          ],
          "table": [
           {
            "cells": {
             "fill": {
              "color": "#EBF0F8"
             },
             "line": {
              "color": "white"
             }
            },
            "header": {
             "fill": {
              "color": "#C8D4E3"
             },
             "line": {
              "color": "white"
             }
            },
            "type": "table"
           }
          ]
         },
         "layout": {
          "annotationdefaults": {
           "arrowcolor": "#2a3f5f",
           "arrowhead": 0,
           "arrowwidth": 1
          },
          "autotypenumbers": "strict",
          "coloraxis": {
           "colorbar": {
            "outlinewidth": 0,
            "ticks": ""
           }
          },
          "colorscale": {
           "diverging": [
            [
             0,
             "#8e0152"
            ],
            [
             0.1,
             "#c51b7d"
            ],
            [
             0.2,
             "#de77ae"
            ],
            [
             0.3,
             "#f1b6da"
            ],
            [
             0.4,
             "#fde0ef"
            ],
            [
             0.5,
             "#f7f7f7"
            ],
            [
             0.6,
             "#e6f5d0"
            ],
            [
             0.7,
             "#b8e186"
            ],
            [
             0.8,
             "#7fbc41"
            ],
            [
             0.9,
             "#4d9221"
            ],
            [
             1,
             "#276419"
            ]
           ],
           "sequential": [
            [
             0,
             "#0d0887"
            ],
            [
             0.1111111111111111,
             "#46039f"
            ],
            [
             0.2222222222222222,
             "#7201a8"
            ],
            [
             0.3333333333333333,
             "#9c179e"
            ],
            [
             0.4444444444444444,
             "#bd3786"
            ],
            [
             0.5555555555555556,
             "#d8576b"
            ],
            [
             0.6666666666666666,
             "#ed7953"
            ],
            [
             0.7777777777777778,
             "#fb9f3a"
            ],
            [
             0.8888888888888888,
             "#fdca26"
            ],
            [
             1,
             "#f0f921"
            ]
           ],
           "sequentialminus": [
            [
             0,
             "#0d0887"
            ],
            [
             0.1111111111111111,
             "#46039f"
            ],
            [
             0.2222222222222222,
             "#7201a8"
            ],
            [
             0.3333333333333333,
             "#9c179e"
            ],
            [
             0.4444444444444444,
             "#bd3786"
            ],
            [
             0.5555555555555556,
             "#d8576b"
            ],
            [
             0.6666666666666666,
             "#ed7953"
            ],
            [
             0.7777777777777778,
             "#fb9f3a"
            ],
            [
             0.8888888888888888,
             "#fdca26"
            ],
            [
             1,
             "#f0f921"
            ]
           ]
          },
          "colorway": [
           "#636efa",
           "#EF553B",
           "#00cc96",
           "#ab63fa",
           "#FFA15A",
           "#19d3f3",
           "#FF6692",
           "#B6E880",
           "#FF97FF",
           "#FECB52"
          ],
          "font": {
           "color": "#2a3f5f"
          },
          "geo": {
           "bgcolor": "white",
           "lakecolor": "white",
           "landcolor": "#E5ECF6",
           "showlakes": true,
           "showland": true,
           "subunitcolor": "white"
          },
          "hoverlabel": {
           "align": "left"
          },
          "hovermode": "closest",
          "mapbox": {
           "style": "light"
          },
          "paper_bgcolor": "white",
          "plot_bgcolor": "#E5ECF6",
          "polar": {
           "angularaxis": {
            "gridcolor": "white",
            "linecolor": "white",
            "ticks": ""
           },
           "bgcolor": "#E5ECF6",
           "radialaxis": {
            "gridcolor": "white",
            "linecolor": "white",
            "ticks": ""
           }
          },
          "scene": {
           "xaxis": {
            "backgroundcolor": "#E5ECF6",
            "gridcolor": "white",
            "gridwidth": 2,
            "linecolor": "white",
            "showbackground": true,
            "ticks": "",
            "zerolinecolor": "white"
           },
           "yaxis": {
            "backgroundcolor": "#E5ECF6",
            "gridcolor": "white",
            "gridwidth": 2,
            "linecolor": "white",
            "showbackground": true,
            "ticks": "",
            "zerolinecolor": "white"
           },
           "zaxis": {
            "backgroundcolor": "#E5ECF6",
            "gridcolor": "white",
            "gridwidth": 2,
            "linecolor": "white",
            "showbackground": true,
            "ticks": "",
            "zerolinecolor": "white"
           }
          },
          "shapedefaults": {
           "line": {
            "color": "#2a3f5f"
           }
          },
          "ternary": {
           "aaxis": {
            "gridcolor": "white",
            "linecolor": "white",
            "ticks": ""
           },
           "baxis": {
            "gridcolor": "white",
            "linecolor": "white",
            "ticks": ""
           },
           "bgcolor": "#E5ECF6",
           "caxis": {
            "gridcolor": "white",
            "linecolor": "white",
            "ticks": ""
           }
          },
          "title": {
           "x": 0.05
          },
          "xaxis": {
           "automargin": true,
           "gridcolor": "white",
           "linecolor": "white",
           "ticks": "",
           "title": {
            "standoff": 15
           },
           "zerolinecolor": "white",
           "zerolinewidth": 2
          },
          "yaxis": {
           "automargin": true,
           "gridcolor": "white",
           "linecolor": "white",
           "ticks": "",
           "title": {
            "standoff": 15
           },
           "zerolinecolor": "white",
           "zerolinewidth": 2
          }
         }
        },
        "title": {
         "text": "Self-Employment Trends by Gender"
        },
        "xaxis": {
         "anchor": "y",
         "domain": [
          0,
          1
         ],
         "title": {
          "text": "Year"
         }
        },
        "yaxis": {
         "anchor": "x",
         "domain": [
          0,
          1
         ],
         "title": {
          "text": "Self-Employment (%)"
         }
        }
       }
      }
     },
     "metadata": {},
     "output_type": "display_data"
    }
   ],
   "source": [
    "fig4 = px.line(self_employment_data, x=self_employment_data.index, y=self_employment_data.columns,\n",
    "               title='Self-Employment Trends by Gender')\n",
    "fig4.update_layout(yaxis_title='Self-Employment (%)', xaxis_title='Year')"
   ]
  },
  {
   "cell_type": "markdown",
   "metadata": {},
   "source": [
    "# 5. Labor Force Participation Ratio"
   ]
  },
  {
   "cell_type": "code",
   "execution_count": 58,
   "metadata": {},
   "outputs": [
    {
     "data": {
      "application/vnd.plotly.v1+json": {
       "config": {
        "plotlyServerURL": "https://plot.ly"
       },
       "data": [
        {
         "hovertemplate": "Year=%{x}<br>y=%{y}<extra></extra>",
         "legendgroup": "",
         "line": {
          "color": "#636efa",
          "dash": "solid"
         },
         "marker": {
          "symbol": "circle"
         },
         "mode": "lines",
         "name": "",
         "orientation": "v",
         "showlegend": false,
         "type": "scatter",
         "x": [
          "1991-01-01T00:00:00",
          "1992-01-01T00:00:00",
          "1993-01-01T00:00:00",
          "1994-01-01T00:00:00",
          "1995-01-01T00:00:00",
          "1996-01-01T00:00:00",
          "1997-01-01T00:00:00",
          "1998-01-01T00:00:00",
          "1999-01-01T00:00:00",
          "2000-01-01T00:00:00",
          "2001-01-01T00:00:00",
          "2002-01-01T00:00:00",
          "2003-01-01T00:00:00",
          "2004-01-01T00:00:00",
          "2005-01-01T00:00:00",
          "2006-01-01T00:00:00",
          "2007-01-01T00:00:00",
          "2008-01-01T00:00:00",
          "2009-01-01T00:00:00",
          "2010-01-01T00:00:00",
          "2011-01-01T00:00:00",
          "2012-01-01T00:00:00",
          "2013-01-01T00:00:00",
          "2014-01-01T00:00:00",
          "2015-01-01T00:00:00",
          "2016-01-01T00:00:00",
          "2017-01-01T00:00:00",
          "2018-01-01T00:00:00",
          "2019-01-01T00:00:00",
          "2020-01-01T00:00:00",
          "2021-01-01T00:00:00",
          "2022-01-01T00:00:00",
          "2023-01-01T00:00:00"
         ],
         "xaxis": "x",
         "y": [
          70.8354204177779,
          71.73696083122564,
          72.9654674460906,
          73.38580259834498,
          73.6586117963669,
          74.53448469846985,
          75.19644013856423,
          75.50308066248375,
          76.64225255778165,
          77.18171461122188,
          77.745677202363,
          78.68661272208945,
          78.27465495968552,
          79.26412235769423,
          79.59368399879313,
          79.9610950596447,
          79.79593883897223,
          79.99142428357035,
          80.96673251907077,
          81.26159554730982,
          81.697265710174,
          81.90675320526782,
          82.54773920504952,
          83.1073989854819,
          83.44347673858813,
          83.79240993354318,
          84.67365028203062,
          84.91330748408808,
          85.75661996625834,
          87.25694547836703,
          88.20141492320715,
          87.53274911916162,
          87.49418037095444
         ],
         "yaxis": "y"
        }
       ],
       "layout": {
        "legend": {
         "tracegroupgap": 0
        },
        "template": {
         "data": {
          "bar": [
           {
            "error_x": {
             "color": "#2a3f5f"
            },
            "error_y": {
             "color": "#2a3f5f"
            },
            "marker": {
             "line": {
              "color": "#E5ECF6",
              "width": 0.5
             },
             "pattern": {
              "fillmode": "overlay",
              "size": 10,
              "solidity": 0.2
             }
            },
            "type": "bar"
           }
          ],
          "barpolar": [
           {
            "marker": {
             "line": {
              "color": "#E5ECF6",
              "width": 0.5
             },
             "pattern": {
              "fillmode": "overlay",
              "size": 10,
              "solidity": 0.2
             }
            },
            "type": "barpolar"
           }
          ],
          "carpet": [
           {
            "aaxis": {
             "endlinecolor": "#2a3f5f",
             "gridcolor": "white",
             "linecolor": "white",
             "minorgridcolor": "white",
             "startlinecolor": "#2a3f5f"
            },
            "baxis": {
             "endlinecolor": "#2a3f5f",
             "gridcolor": "white",
             "linecolor": "white",
             "minorgridcolor": "white",
             "startlinecolor": "#2a3f5f"
            },
            "type": "carpet"
           }
          ],
          "choropleth": [
           {
            "colorbar": {
             "outlinewidth": 0,
             "ticks": ""
            },
            "type": "choropleth"
           }
          ],
          "contour": [
           {
            "colorbar": {
             "outlinewidth": 0,
             "ticks": ""
            },
            "colorscale": [
             [
              0,
              "#0d0887"
             ],
             [
              0.1111111111111111,
              "#46039f"
             ],
             [
              0.2222222222222222,
              "#7201a8"
             ],
             [
              0.3333333333333333,
              "#9c179e"
             ],
             [
              0.4444444444444444,
              "#bd3786"
             ],
             [
              0.5555555555555556,
              "#d8576b"
             ],
             [
              0.6666666666666666,
              "#ed7953"
             ],
             [
              0.7777777777777778,
              "#fb9f3a"
             ],
             [
              0.8888888888888888,
              "#fdca26"
             ],
             [
              1,
              "#f0f921"
             ]
            ],
            "type": "contour"
           }
          ],
          "contourcarpet": [
           {
            "colorbar": {
             "outlinewidth": 0,
             "ticks": ""
            },
            "type": "contourcarpet"
           }
          ],
          "heatmap": [
           {
            "colorbar": {
             "outlinewidth": 0,
             "ticks": ""
            },
            "colorscale": [
             [
              0,
              "#0d0887"
             ],
             [
              0.1111111111111111,
              "#46039f"
             ],
             [
              0.2222222222222222,
              "#7201a8"
             ],
             [
              0.3333333333333333,
              "#9c179e"
             ],
             [
              0.4444444444444444,
              "#bd3786"
             ],
             [
              0.5555555555555556,
              "#d8576b"
             ],
             [
              0.6666666666666666,
              "#ed7953"
             ],
             [
              0.7777777777777778,
              "#fb9f3a"
             ],
             [
              0.8888888888888888,
              "#fdca26"
             ],
             [
              1,
              "#f0f921"
             ]
            ],
            "type": "heatmap"
           }
          ],
          "heatmapgl": [
           {
            "colorbar": {
             "outlinewidth": 0,
             "ticks": ""
            },
            "colorscale": [
             [
              0,
              "#0d0887"
             ],
             [
              0.1111111111111111,
              "#46039f"
             ],
             [
              0.2222222222222222,
              "#7201a8"
             ],
             [
              0.3333333333333333,
              "#9c179e"
             ],
             [
              0.4444444444444444,
              "#bd3786"
             ],
             [
              0.5555555555555556,
              "#d8576b"
             ],
             [
              0.6666666666666666,
              "#ed7953"
             ],
             [
              0.7777777777777778,
              "#fb9f3a"
             ],
             [
              0.8888888888888888,
              "#fdca26"
             ],
             [
              1,
              "#f0f921"
             ]
            ],
            "type": "heatmapgl"
           }
          ],
          "histogram": [
           {
            "marker": {
             "pattern": {
              "fillmode": "overlay",
              "size": 10,
              "solidity": 0.2
             }
            },
            "type": "histogram"
           }
          ],
          "histogram2d": [
           {
            "colorbar": {
             "outlinewidth": 0,
             "ticks": ""
            },
            "colorscale": [
             [
              0,
              "#0d0887"
             ],
             [
              0.1111111111111111,
              "#46039f"
             ],
             [
              0.2222222222222222,
              "#7201a8"
             ],
             [
              0.3333333333333333,
              "#9c179e"
             ],
             [
              0.4444444444444444,
              "#bd3786"
             ],
             [
              0.5555555555555556,
              "#d8576b"
             ],
             [
              0.6666666666666666,
              "#ed7953"
             ],
             [
              0.7777777777777778,
              "#fb9f3a"
             ],
             [
              0.8888888888888888,
              "#fdca26"
             ],
             [
              1,
              "#f0f921"
             ]
            ],
            "type": "histogram2d"
           }
          ],
          "histogram2dcontour": [
           {
            "colorbar": {
             "outlinewidth": 0,
             "ticks": ""
            },
            "colorscale": [
             [
              0,
              "#0d0887"
             ],
             [
              0.1111111111111111,
              "#46039f"
             ],
             [
              0.2222222222222222,
              "#7201a8"
             ],
             [
              0.3333333333333333,
              "#9c179e"
             ],
             [
              0.4444444444444444,
              "#bd3786"
             ],
             [
              0.5555555555555556,
              "#d8576b"
             ],
             [
              0.6666666666666666,
              "#ed7953"
             ],
             [
              0.7777777777777778,
              "#fb9f3a"
             ],
             [
              0.8888888888888888,
              "#fdca26"
             ],
             [
              1,
              "#f0f921"
             ]
            ],
            "type": "histogram2dcontour"
           }
          ],
          "mesh3d": [
           {
            "colorbar": {
             "outlinewidth": 0,
             "ticks": ""
            },
            "type": "mesh3d"
           }
          ],
          "parcoords": [
           {
            "line": {
             "colorbar": {
              "outlinewidth": 0,
              "ticks": ""
             }
            },
            "type": "parcoords"
           }
          ],
          "pie": [
           {
            "automargin": true,
            "type": "pie"
           }
          ],
          "scatter": [
           {
            "fillpattern": {
             "fillmode": "overlay",
             "size": 10,
             "solidity": 0.2
            },
            "type": "scatter"
           }
          ],
          "scatter3d": [
           {
            "line": {
             "colorbar": {
              "outlinewidth": 0,
              "ticks": ""
             }
            },
            "marker": {
             "colorbar": {
              "outlinewidth": 0,
              "ticks": ""
             }
            },
            "type": "scatter3d"
           }
          ],
          "scattercarpet": [
           {
            "marker": {
             "colorbar": {
              "outlinewidth": 0,
              "ticks": ""
             }
            },
            "type": "scattercarpet"
           }
          ],
          "scattergeo": [
           {
            "marker": {
             "colorbar": {
              "outlinewidth": 0,
              "ticks": ""
             }
            },
            "type": "scattergeo"
           }
          ],
          "scattergl": [
           {
            "marker": {
             "colorbar": {
              "outlinewidth": 0,
              "ticks": ""
             }
            },
            "type": "scattergl"
           }
          ],
          "scattermapbox": [
           {
            "marker": {
             "colorbar": {
              "outlinewidth": 0,
              "ticks": ""
             }
            },
            "type": "scattermapbox"
           }
          ],
          "scatterpolar": [
           {
            "marker": {
             "colorbar": {
              "outlinewidth": 0,
              "ticks": ""
             }
            },
            "type": "scatterpolar"
           }
          ],
          "scatterpolargl": [
           {
            "marker": {
             "colorbar": {
              "outlinewidth": 0,
              "ticks": ""
             }
            },
            "type": "scatterpolargl"
           }
          ],
          "scatterternary": [
           {
            "marker": {
             "colorbar": {
              "outlinewidth": 0,
              "ticks": ""
             }
            },
            "type": "scatterternary"
           }
          ],
          "surface": [
           {
            "colorbar": {
             "outlinewidth": 0,
             "ticks": ""
            },
            "colorscale": [
             [
              0,
              "#0d0887"
             ],
             [
              0.1111111111111111,
              "#46039f"
             ],
             [
              0.2222222222222222,
              "#7201a8"
             ],
             [
              0.3333333333333333,
              "#9c179e"
             ],
             [
              0.4444444444444444,
              "#bd3786"
             ],
             [
              0.5555555555555556,
              "#d8576b"
             ],
             [
              0.6666666666666666,
              "#ed7953"
             ],
             [
              0.7777777777777778,
              "#fb9f3a"
             ],
             [
              0.8888888888888888,
              "#fdca26"
             ],
             [
              1,
              "#f0f921"
             ]
            ],
            "type": "surface"
           }
          ],
          "table": [
           {
            "cells": {
             "fill": {
              "color": "#EBF0F8"
             },
             "line": {
              "color": "white"
             }
            },
            "header": {
             "fill": {
              "color": "#C8D4E3"
             },
             "line": {
              "color": "white"
             }
            },
            "type": "table"
           }
          ]
         },
         "layout": {
          "annotationdefaults": {
           "arrowcolor": "#2a3f5f",
           "arrowhead": 0,
           "arrowwidth": 1
          },
          "autotypenumbers": "strict",
          "coloraxis": {
           "colorbar": {
            "outlinewidth": 0,
            "ticks": ""
           }
          },
          "colorscale": {
           "diverging": [
            [
             0,
             "#8e0152"
            ],
            [
             0.1,
             "#c51b7d"
            ],
            [
             0.2,
             "#de77ae"
            ],
            [
             0.3,
             "#f1b6da"
            ],
            [
             0.4,
             "#fde0ef"
            ],
            [
             0.5,
             "#f7f7f7"
            ],
            [
             0.6,
             "#e6f5d0"
            ],
            [
             0.7,
             "#b8e186"
            ],
            [
             0.8,
             "#7fbc41"
            ],
            [
             0.9,
             "#4d9221"
            ],
            [
             1,
             "#276419"
            ]
           ],
           "sequential": [
            [
             0,
             "#0d0887"
            ],
            [
             0.1111111111111111,
             "#46039f"
            ],
            [
             0.2222222222222222,
             "#7201a8"
            ],
            [
             0.3333333333333333,
             "#9c179e"
            ],
            [
             0.4444444444444444,
             "#bd3786"
            ],
            [
             0.5555555555555556,
             "#d8576b"
            ],
            [
             0.6666666666666666,
             "#ed7953"
            ],
            [
             0.7777777777777778,
             "#fb9f3a"
            ],
            [
             0.8888888888888888,
             "#fdca26"
            ],
            [
             1,
             "#f0f921"
            ]
           ],
           "sequentialminus": [
            [
             0,
             "#0d0887"
            ],
            [
             0.1111111111111111,
             "#46039f"
            ],
            [
             0.2222222222222222,
             "#7201a8"
            ],
            [
             0.3333333333333333,
             "#9c179e"
            ],
            [
             0.4444444444444444,
             "#bd3786"
            ],
            [
             0.5555555555555556,
             "#d8576b"
            ],
            [
             0.6666666666666666,
             "#ed7953"
            ],
            [
             0.7777777777777778,
             "#fb9f3a"
            ],
            [
             0.8888888888888888,
             "#fdca26"
            ],
            [
             1,
             "#f0f921"
            ]
           ]
          },
          "colorway": [
           "#636efa",
           "#EF553B",
           "#00cc96",
           "#ab63fa",
           "#FFA15A",
           "#19d3f3",
           "#FF6692",
           "#B6E880",
           "#FF97FF",
           "#FECB52"
          ],
          "font": {
           "color": "#2a3f5f"
          },
          "geo": {
           "bgcolor": "white",
           "lakecolor": "white",
           "landcolor": "#E5ECF6",
           "showlakes": true,
           "showland": true,
           "subunitcolor": "white"
          },
          "hoverlabel": {
           "align": "left"
          },
          "hovermode": "closest",
          "mapbox": {
           "style": "light"
          },
          "paper_bgcolor": "white",
          "plot_bgcolor": "#E5ECF6",
          "polar": {
           "angularaxis": {
            "gridcolor": "white",
            "linecolor": "white",
            "ticks": ""
           },
           "bgcolor": "#E5ECF6",
           "radialaxis": {
            "gridcolor": "white",
            "linecolor": "white",
            "ticks": ""
           }
          },
          "scene": {
           "xaxis": {
            "backgroundcolor": "#E5ECF6",
            "gridcolor": "white",
            "gridwidth": 2,
            "linecolor": "white",
            "showbackground": true,
            "ticks": "",
            "zerolinecolor": "white"
           },
           "yaxis": {
            "backgroundcolor": "#E5ECF6",
            "gridcolor": "white",
            "gridwidth": 2,
            "linecolor": "white",
            "showbackground": true,
            "ticks": "",
            "zerolinecolor": "white"
           },
           "zaxis": {
            "backgroundcolor": "#E5ECF6",
            "gridcolor": "white",
            "gridwidth": 2,
            "linecolor": "white",
            "showbackground": true,
            "ticks": "",
            "zerolinecolor": "white"
           }
          },
          "shapedefaults": {
           "line": {
            "color": "#2a3f5f"
           }
          },
          "ternary": {
           "aaxis": {
            "gridcolor": "white",
            "linecolor": "white",
            "ticks": ""
           },
           "baxis": {
            "gridcolor": "white",
            "linecolor": "white",
            "ticks": ""
           },
           "bgcolor": "#E5ECF6",
           "caxis": {
            "gridcolor": "white",
            "linecolor": "white",
            "ticks": ""
           }
          },
          "title": {
           "x": 0.05
          },
          "xaxis": {
           "automargin": true,
           "gridcolor": "white",
           "linecolor": "white",
           "ticks": "",
           "title": {
            "standoff": 15
           },
           "zerolinecolor": "white",
           "zerolinewidth": 2
          },
          "yaxis": {
           "automargin": true,
           "gridcolor": "white",
           "linecolor": "white",
           "ticks": "",
           "title": {
            "standoff": 15
           },
           "zerolinecolor": "white",
           "zerolinewidth": 2
          }
         }
        },
        "title": {
         "text": "Female to Male Labor Force Participation Ratio"
        },
        "xaxis": {
         "anchor": "y",
         "domain": [
          0,
          1
         ],
         "title": {
          "text": "Year"
         }
        },
        "yaxis": {
         "anchor": "x",
         "domain": [
          0,
          1
         ],
         "title": {
          "text": "Ratio (%)"
         }
        }
       }
      }
     },
     "metadata": {},
     "output_type": "display_data"
    }
   ],
   "source": [
    "labor_force_ratio = dfy['Ratio of female to male labor force participation rate (%) (modeled ILO estimate)']\n",
    "\n",
    "fig4 = px.line(labor_force_ratio, x=labor_force_ratio.index, y=labor_force_ratio,\n",
    "               title='Female to Male Labor Force Participation Ratio')\n",
    "fig4.update_layout(yaxis_title='Ratio (%)', xaxis_title='Year')"
   ]
  },
  {
   "cell_type": "markdown",
   "metadata": {},
   "source": [
    "# Additional Analysis: Correlation Heatmap"
   ]
  },
  {
   "cell_type": "code",
   "execution_count": 60,
   "metadata": {},
   "outputs": [],
   "source": [
    "correlation_data = dfy[['Employment in services (% of total employment) (modeled ILO estimate)',\n",
    "                       'Unemployment, total (% of total labor force) (modeled ILO estimate)',\n",
    "                       'Part time employment, total (% of total employment)',\n",
    "                       'Self-employed, total (% of total employment) (modeled ILO estimate)',\n",
    "                       'Ratio of female to male labor force participation rate (%) (modeled ILO estimate)']]\n",
    "correlation_data.columns = ['Services Employment', 'Unemployment', 'Part-Time Employment', \n",
    "                            'Self-Employment', 'Gender Participation Ratio']"
   ]
  },
  {
   "cell_type": "code",
   "execution_count": 61,
   "metadata": {},
   "outputs": [
    {
     "data": {
      "application/vnd.plotly.v1+json": {
       "config": {
        "plotlyServerURL": "https://plot.ly"
       },
       "data": [
        {
         "coloraxis": "coloraxis",
         "hovertemplate": "Variable: %{x}<br>Variable: %{y}<br>Correlation: %{z}<extra></extra>",
         "name": "0",
         "type": "heatmap",
         "x": [
          "Services Employment",
          "Unemployment",
          "Part-Time Employment",
          "Self-Employment",
          "Gender Participation Ratio"
         ],
         "xaxis": "x",
         "y": [
          "Services Employment",
          "Unemployment",
          "Part-Time Employment",
          "Self-Employment",
          "Gender Participation Ratio"
         ],
         "yaxis": "y",
         "z": [
          [
           1,
           -0.627495262383874,
           0.4639203774618177,
           0.7105286893653544,
           0.9632395335684539
          ],
          [
           -0.627495262383874,
           1,
           -0.1658685596850024,
           -0.28126207654345037,
           -0.7116013928666142
          ],
          [
           0.4639203774618177,
           -0.1658685596850024,
           1,
           0.20986639995409911,
           0.40792397424763666
          ],
          [
           0.7105286893653544,
           -0.28126207654345037,
           0.20986639995409911,
           1,
           0.7660218116069444
          ],
          [
           0.9632395335684539,
           -0.7116013928666142,
           0.40792397424763666,
           0.7660218116069444,
           1
          ]
         ]
        }
       ],
       "layout": {
        "coloraxis": {
         "colorbar": {
          "title": {
           "text": "Correlation"
          }
         },
         "colorscale": [
          [
           0,
           "rgb(5,48,97)"
          ],
          [
           0.1,
           "rgb(33,102,172)"
          ],
          [
           0.2,
           "rgb(67,147,195)"
          ],
          [
           0.3,
           "rgb(146,197,222)"
          ],
          [
           0.4,
           "rgb(209,229,240)"
          ],
          [
           0.5,
           "rgb(247,247,247)"
          ],
          [
           0.6,
           "rgb(253,219,199)"
          ],
          [
           0.7,
           "rgb(244,165,130)"
          ],
          [
           0.8,
           "rgb(214,96,77)"
          ],
          [
           0.9,
           "rgb(178,24,43)"
          ],
          [
           1,
           "rgb(103,0,31)"
          ]
         ]
        },
        "height": 800,
        "template": {
         "data": {
          "bar": [
           {
            "error_x": {
             "color": "#2a3f5f"
            },
            "error_y": {
             "color": "#2a3f5f"
            },
            "marker": {
             "line": {
              "color": "#E5ECF6",
              "width": 0.5
             },
             "pattern": {
              "fillmode": "overlay",
              "size": 10,
              "solidity": 0.2
             }
            },
            "type": "bar"
           }
          ],
          "barpolar": [
           {
            "marker": {
             "line": {
              "color": "#E5ECF6",
              "width": 0.5
             },
             "pattern": {
              "fillmode": "overlay",
              "size": 10,
              "solidity": 0.2
             }
            },
            "type": "barpolar"
           }
          ],
          "carpet": [
           {
            "aaxis": {
             "endlinecolor": "#2a3f5f",
             "gridcolor": "white",
             "linecolor": "white",
             "minorgridcolor": "white",
             "startlinecolor": "#2a3f5f"
            },
            "baxis": {
             "endlinecolor": "#2a3f5f",
             "gridcolor": "white",
             "linecolor": "white",
             "minorgridcolor": "white",
             "startlinecolor": "#2a3f5f"
            },
            "type": "carpet"
           }
          ],
          "choropleth": [
           {
            "colorbar": {
             "outlinewidth": 0,
             "ticks": ""
            },
            "type": "choropleth"
           }
          ],
          "contour": [
           {
            "colorbar": {
             "outlinewidth": 0,
             "ticks": ""
            },
            "colorscale": [
             [
              0,
              "#0d0887"
             ],
             [
              0.1111111111111111,
              "#46039f"
             ],
             [
              0.2222222222222222,
              "#7201a8"
             ],
             [
              0.3333333333333333,
              "#9c179e"
             ],
             [
              0.4444444444444444,
              "#bd3786"
             ],
             [
              0.5555555555555556,
              "#d8576b"
             ],
             [
              0.6666666666666666,
              "#ed7953"
             ],
             [
              0.7777777777777778,
              "#fb9f3a"
             ],
             [
              0.8888888888888888,
              "#fdca26"
             ],
             [
              1,
              "#f0f921"
             ]
            ],
            "type": "contour"
           }
          ],
          "contourcarpet": [
           {
            "colorbar": {
             "outlinewidth": 0,
             "ticks": ""
            },
            "type": "contourcarpet"
           }
          ],
          "heatmap": [
           {
            "colorbar": {
             "outlinewidth": 0,
             "ticks": ""
            },
            "colorscale": [
             [
              0,
              "#0d0887"
             ],
             [
              0.1111111111111111,
              "#46039f"
             ],
             [
              0.2222222222222222,
              "#7201a8"
             ],
             [
              0.3333333333333333,
              "#9c179e"
             ],
             [
              0.4444444444444444,
              "#bd3786"
             ],
             [
              0.5555555555555556,
              "#d8576b"
             ],
             [
              0.6666666666666666,
              "#ed7953"
             ],
             [
              0.7777777777777778,
              "#fb9f3a"
             ],
             [
              0.8888888888888888,
              "#fdca26"
             ],
             [
              1,
              "#f0f921"
             ]
            ],
            "type": "heatmap"
           }
          ],
          "heatmapgl": [
           {
            "colorbar": {
             "outlinewidth": 0,
             "ticks": ""
            },
            "colorscale": [
             [
              0,
              "#0d0887"
             ],
             [
              0.1111111111111111,
              "#46039f"
             ],
             [
              0.2222222222222222,
              "#7201a8"
             ],
             [
              0.3333333333333333,
              "#9c179e"
             ],
             [
              0.4444444444444444,
              "#bd3786"
             ],
             [
              0.5555555555555556,
              "#d8576b"
             ],
             [
              0.6666666666666666,
              "#ed7953"
             ],
             [
              0.7777777777777778,
              "#fb9f3a"
             ],
             [
              0.8888888888888888,
              "#fdca26"
             ],
             [
              1,
              "#f0f921"
             ]
            ],
            "type": "heatmapgl"
           }
          ],
          "histogram": [
           {
            "marker": {
             "pattern": {
              "fillmode": "overlay",
              "size": 10,
              "solidity": 0.2
             }
            },
            "type": "histogram"
           }
          ],
          "histogram2d": [
           {
            "colorbar": {
             "outlinewidth": 0,
             "ticks": ""
            },
            "colorscale": [
             [
              0,
              "#0d0887"
             ],
             [
              0.1111111111111111,
              "#46039f"
             ],
             [
              0.2222222222222222,
              "#7201a8"
             ],
             [
              0.3333333333333333,
              "#9c179e"
             ],
             [
              0.4444444444444444,
              "#bd3786"
             ],
             [
              0.5555555555555556,
              "#d8576b"
             ],
             [
              0.6666666666666666,
              "#ed7953"
             ],
             [
              0.7777777777777778,
              "#fb9f3a"
             ],
             [
              0.8888888888888888,
              "#fdca26"
             ],
             [
              1,
              "#f0f921"
             ]
            ],
            "type": "histogram2d"
           }
          ],
          "histogram2dcontour": [
           {
            "colorbar": {
             "outlinewidth": 0,
             "ticks": ""
            },
            "colorscale": [
             [
              0,
              "#0d0887"
             ],
             [
              0.1111111111111111,
              "#46039f"
             ],
             [
              0.2222222222222222,
              "#7201a8"
             ],
             [
              0.3333333333333333,
              "#9c179e"
             ],
             [
              0.4444444444444444,
              "#bd3786"
             ],
             [
              0.5555555555555556,
              "#d8576b"
             ],
             [
              0.6666666666666666,
              "#ed7953"
             ],
             [
              0.7777777777777778,
              "#fb9f3a"
             ],
             [
              0.8888888888888888,
              "#fdca26"
             ],
             [
              1,
              "#f0f921"
             ]
            ],
            "type": "histogram2dcontour"
           }
          ],
          "mesh3d": [
           {
            "colorbar": {
             "outlinewidth": 0,
             "ticks": ""
            },
            "type": "mesh3d"
           }
          ],
          "parcoords": [
           {
            "line": {
             "colorbar": {
              "outlinewidth": 0,
              "ticks": ""
             }
            },
            "type": "parcoords"
           }
          ],
          "pie": [
           {
            "automargin": true,
            "type": "pie"
           }
          ],
          "scatter": [
           {
            "fillpattern": {
             "fillmode": "overlay",
             "size": 10,
             "solidity": 0.2
            },
            "type": "scatter"
           }
          ],
          "scatter3d": [
           {
            "line": {
             "colorbar": {
              "outlinewidth": 0,
              "ticks": ""
             }
            },
            "marker": {
             "colorbar": {
              "outlinewidth": 0,
              "ticks": ""
             }
            },
            "type": "scatter3d"
           }
          ],
          "scattercarpet": [
           {
            "marker": {
             "colorbar": {
              "outlinewidth": 0,
              "ticks": ""
             }
            },
            "type": "scattercarpet"
           }
          ],
          "scattergeo": [
           {
            "marker": {
             "colorbar": {
              "outlinewidth": 0,
              "ticks": ""
             }
            },
            "type": "scattergeo"
           }
          ],
          "scattergl": [
           {
            "marker": {
             "colorbar": {
              "outlinewidth": 0,
              "ticks": ""
             }
            },
            "type": "scattergl"
           }
          ],
          "scattermapbox": [
           {
            "marker": {
             "colorbar": {
              "outlinewidth": 0,
              "ticks": ""
             }
            },
            "type": "scattermapbox"
           }
          ],
          "scatterpolar": [
           {
            "marker": {
             "colorbar": {
              "outlinewidth": 0,
              "ticks": ""
             }
            },
            "type": "scatterpolar"
           }
          ],
          "scatterpolargl": [
           {
            "marker": {
             "colorbar": {
              "outlinewidth": 0,
              "ticks": ""
             }
            },
            "type": "scatterpolargl"
           }
          ],
          "scatterternary": [
           {
            "marker": {
             "colorbar": {
              "outlinewidth": 0,
              "ticks": ""
             }
            },
            "type": "scatterternary"
           }
          ],
          "surface": [
           {
            "colorbar": {
             "outlinewidth": 0,
             "ticks": ""
            },
            "colorscale": [
             [
              0,
              "#0d0887"
             ],
             [
              0.1111111111111111,
              "#46039f"
             ],
             [
              0.2222222222222222,
              "#7201a8"
             ],
             [
              0.3333333333333333,
              "#9c179e"
             ],
             [
              0.4444444444444444,
              "#bd3786"
             ],
             [
              0.5555555555555556,
              "#d8576b"
             ],
             [
              0.6666666666666666,
              "#ed7953"
             ],
             [
              0.7777777777777778,
              "#fb9f3a"
             ],
             [
              0.8888888888888888,
              "#fdca26"
             ],
             [
              1,
              "#f0f921"
             ]
            ],
            "type": "surface"
           }
          ],
          "table": [
           {
            "cells": {
             "fill": {
              "color": "#EBF0F8"
             },
             "line": {
              "color": "white"
             }
            },
            "header": {
             "fill": {
              "color": "#C8D4E3"
             },
             "line": {
              "color": "white"
             }
            },
            "type": "table"
           }
          ]
         },
         "layout": {
          "annotationdefaults": {
           "arrowcolor": "#2a3f5f",
           "arrowhead": 0,
           "arrowwidth": 1
          },
          "autotypenumbers": "strict",
          "coloraxis": {
           "colorbar": {
            "outlinewidth": 0,
            "ticks": ""
           }
          },
          "colorscale": {
           "diverging": [
            [
             0,
             "#8e0152"
            ],
            [
             0.1,
             "#c51b7d"
            ],
            [
             0.2,
             "#de77ae"
            ],
            [
             0.3,
             "#f1b6da"
            ],
            [
             0.4,
             "#fde0ef"
            ],
            [
             0.5,
             "#f7f7f7"
            ],
            [
             0.6,
             "#e6f5d0"
            ],
            [
             0.7,
             "#b8e186"
            ],
            [
             0.8,
             "#7fbc41"
            ],
            [
             0.9,
             "#4d9221"
            ],
            [
             1,
             "#276419"
            ]
           ],
           "sequential": [
            [
             0,
             "#0d0887"
            ],
            [
             0.1111111111111111,
             "#46039f"
            ],
            [
             0.2222222222222222,
             "#7201a8"
            ],
            [
             0.3333333333333333,
             "#9c179e"
            ],
            [
             0.4444444444444444,
             "#bd3786"
            ],
            [
             0.5555555555555556,
             "#d8576b"
            ],
            [
             0.6666666666666666,
             "#ed7953"
            ],
            [
             0.7777777777777778,
             "#fb9f3a"
            ],
            [
             0.8888888888888888,
             "#fdca26"
            ],
            [
             1,
             "#f0f921"
            ]
           ],
           "sequentialminus": [
            [
             0,
             "#0d0887"
            ],
            [
             0.1111111111111111,
             "#46039f"
            ],
            [
             0.2222222222222222,
             "#7201a8"
            ],
            [
             0.3333333333333333,
             "#9c179e"
            ],
            [
             0.4444444444444444,
             "#bd3786"
            ],
            [
             0.5555555555555556,
             "#d8576b"
            ],
            [
             0.6666666666666666,
             "#ed7953"
            ],
            [
             0.7777777777777778,
             "#fb9f3a"
            ],
            [
             0.8888888888888888,
             "#fdca26"
            ],
            [
             1,
             "#f0f921"
            ]
           ]
          },
          "colorway": [
           "#636efa",
           "#EF553B",
           "#00cc96",
           "#ab63fa",
           "#FFA15A",
           "#19d3f3",
           "#FF6692",
           "#B6E880",
           "#FF97FF",
           "#FECB52"
          ],
          "font": {
           "color": "#2a3f5f"
          },
          "geo": {
           "bgcolor": "white",
           "lakecolor": "white",
           "landcolor": "#E5ECF6",
           "showlakes": true,
           "showland": true,
           "subunitcolor": "white"
          },
          "hoverlabel": {
           "align": "left"
          },
          "hovermode": "closest",
          "mapbox": {
           "style": "light"
          },
          "paper_bgcolor": "white",
          "plot_bgcolor": "#E5ECF6",
          "polar": {
           "angularaxis": {
            "gridcolor": "white",
            "linecolor": "white",
            "ticks": ""
           },
           "bgcolor": "#E5ECF6",
           "radialaxis": {
            "gridcolor": "white",
            "linecolor": "white",
            "ticks": ""
           }
          },
          "scene": {
           "xaxis": {
            "backgroundcolor": "#E5ECF6",
            "gridcolor": "white",
            "gridwidth": 2,
            "linecolor": "white",
            "showbackground": true,
            "ticks": "",
            "zerolinecolor": "white"
           },
           "yaxis": {
            "backgroundcolor": "#E5ECF6",
            "gridcolor": "white",
            "gridwidth": 2,
            "linecolor": "white",
            "showbackground": true,
            "ticks": "",
            "zerolinecolor": "white"
           },
           "zaxis": {
            "backgroundcolor": "#E5ECF6",
            "gridcolor": "white",
            "gridwidth": 2,
            "linecolor": "white",
            "showbackground": true,
            "ticks": "",
            "zerolinecolor": "white"
           }
          },
          "shapedefaults": {
           "line": {
            "color": "#2a3f5f"
           }
          },
          "ternary": {
           "aaxis": {
            "gridcolor": "white",
            "linecolor": "white",
            "ticks": ""
           },
           "baxis": {
            "gridcolor": "white",
            "linecolor": "white",
            "ticks": ""
           },
           "bgcolor": "#E5ECF6",
           "caxis": {
            "gridcolor": "white",
            "linecolor": "white",
            "ticks": ""
           }
          },
          "title": {
           "x": 0.05
          },
          "xaxis": {
           "automargin": true,
           "gridcolor": "white",
           "linecolor": "white",
           "ticks": "",
           "title": {
            "standoff": 15
           },
           "zerolinecolor": "white",
           "zerolinewidth": 2
          },
          "yaxis": {
           "automargin": true,
           "gridcolor": "white",
           "linecolor": "white",
           "ticks": "",
           "title": {
            "standoff": 15
           },
           "zerolinecolor": "white",
           "zerolinewidth": 2
          }
         }
        },
        "title": {
         "text": "Correlation Heatmap of Key Employment Indicators"
        },
        "width": 800,
        "xaxis": {
         "anchor": "y",
         "constrain": "domain",
         "domain": [
          0,
          1
         ],
         "scaleanchor": "y",
         "title": {
          "text": "Variable"
         }
        },
        "yaxis": {
         "anchor": "x",
         "autorange": "reversed",
         "constrain": "domain",
         "domain": [
          0,
          1
         ],
         "title": {
          "text": "Variable"
         }
        }
       }
      }
     },
     "metadata": {},
     "output_type": "display_data"
    }
   ],
   "source": [
    "correlation_matrix = correlation_data.corr()\n",
    "\n",
    "fig6 = px.imshow(correlation_matrix, \n",
    "                 labels=dict(x=\"Variable\", y=\"Variable\", color=\"Correlation\"),\n",
    "                 x=correlation_matrix.columns,\n",
    "                 y=correlation_matrix.columns,\n",
    "                 color_continuous_scale=\"RdBu_r\",\n",
    "                 title=\"Correlation Heatmap of Key Employment Indicators\")\n",
    "fig6.update_layout(width=800, height=800)\n",
    "fig6.show()"
   ]
  },
  {
   "cell_type": "code",
   "execution_count": null,
   "metadata": {},
   "outputs": [],
   "source": []
  },
  {
   "cell_type": "code",
   "execution_count": null,
   "metadata": {},
   "outputs": [],
   "source": []
  },
  {
   "cell_type": "code",
   "execution_count": null,
   "metadata": {},
   "outputs": [],
   "source": []
  }
 ],
 "metadata": {
  "kernelspec": {
   "display_name": "Python 3",
   "language": "python",
   "name": "python3"
  },
  "language_info": {
   "codemirror_mode": {
    "name": "ipython",
    "version": 3
   },
   "file_extension": ".py",
   "mimetype": "text/x-python",
   "name": "python",
   "nbconvert_exporter": "python",
   "pygments_lexer": "ipython3",
   "version": "3.10.0"
  }
 },
 "nbformat": 4,
 "nbformat_minor": 2
}
